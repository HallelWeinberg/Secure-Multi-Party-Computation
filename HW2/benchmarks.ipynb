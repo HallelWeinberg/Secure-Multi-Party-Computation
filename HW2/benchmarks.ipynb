{
  "nbformat": 4,
  "nbformat_minor": 0,
  "metadata": {
    "colab": {
      "provenance": []
    },
    "kernelspec": {
      "name": "python3",
      "display_name": "Python 3"
    },
    "language_info": {
      "name": "python"
    }
  },
  "cells": [
    {
      "cell_type": "markdown",
      "source": [
        "# **One-Time Truth Table vs Not Privacy-Preserving Computation**\n"
      ],
      "metadata": {
        "id": "3G656KMYgb5i"
      }
    },
    {
      "cell_type": "code",
      "execution_count": 163,
      "metadata": {
        "id": "1POQomj_xvus"
      },
      "outputs": [],
      "source": [
        "import numpy as np\n",
        "import matplotlib.pyplot as plt\n",
        "import time"
      ]
    },
    {
      "cell_type": "markdown",
      "source": [
        "n is a global variable:"
      ],
      "metadata": {
        "id": "xibh93lJg4SL"
      }
    },
    {
      "cell_type": "code",
      "source": [
        "n = 2"
      ],
      "metadata": {
        "id": "kzxcbqmm-6Fa"
      },
      "execution_count": 164,
      "outputs": []
    },
    {
      "cell_type": "markdown",
      "source": [
        "## Dealer's Class:"
      ],
      "metadata": {
        "id": "xn1bnprShhEQ"
      }
    },
    {
      "cell_type": "code",
      "source": [
        "class Dealer:\n",
        "  \"\"\"\n",
        "    param r: number of rows for rotation of the truth table.\n",
        "    param c: number of columns for rotation of the truth table.\n",
        "    param truth_table: a matrix that represents the truth table of the equation.\n",
        "    param m_A: the xor result of the truth table and matrix m_B.\n",
        "    param m_B: a boolean random matrix of size 2^n by 2^n.\n",
        "  \"\"\"\n",
        "  \n",
        "  def __init__(self):\n",
        "\n",
        "    self.r = np.random.randint(0,2**n)\n",
        "    self.c = np.random.randint(0,2**n)\n",
        "\n",
        "    self.truth_table = np.zeros((2**n,2**n), dtype=int)\n",
        "\n",
        "    # Initialize the truth table\n",
        "    for i in range(0,2**n):\n",
        "      for j in range(0,2**n):\n",
        "        if (i*j) >= 4:\n",
        "          self.truth_table[i][j] = 1\n",
        "        else:\n",
        "          self.truth_table[i][j] = 0\n",
        "\n",
        "    # Creating a matrix with random boolean values\n",
        "    self.m_B = [[np.random.randint(0, 1) for j in range(2**n)] for i in range(2**n)]\n",
        "    \n",
        "    # Calculation of matrix m_A\n",
        "    self.m_A = np.zeros((2**n,2**n), dtype=int)\n",
        "    for i in range(0,2**n):\n",
        "      for j in range(0,2**n):\n",
        "        self.m_A[i][j] = np.bitwise_xor(self.truth_table[(i - self.r) % 2**n][(j - self.c) % 2**n], self.m_B[i][j])\n",
        "      \n",
        "  def RandA(self):\n",
        "    \"\"\"\n",
        "      Returns:\n",
        "      r: Alice's random value.\n",
        "      m_A: Alice's random boolean matrix.\n",
        "    \"\"\"\n",
        "    return self.r, self.m_A\n",
        "\n",
        "  def RandB(self):\n",
        "    \"\"\"\n",
        "      Returns:\n",
        "      c: Bob's random value.\n",
        "      m_B: Bob's random boolean matrix.\n",
        "    \"\"\"\n",
        "    return self.c, self.m_B"
      ],
      "metadata": {
        "id": "4sOTQwjiy4dh"
      },
      "execution_count": 165,
      "outputs": []
    },
    {
      "cell_type": "markdown",
      "source": [
        "## Alice's Class:"
      ],
      "metadata": {
        "id": "ccz8SXFZhztd"
      }
    },
    {
      "cell_type": "code",
      "source": [
        "class Alice:\n",
        "  \"\"\"\n",
        "    param x: Alice's input.\n",
        "    param r: Alice's random value.\n",
        "    param m_A: Alice's random boolean matrix.\n",
        "    param u: a number that Alice computes and sends to Bob.\n",
        "    param v: a number that Bob computes and Alice receives from him.\n",
        "    param z_B: a boolean number that Bob sends to Alice.\n",
        "  \"\"\"\n",
        "\n",
        "  def __init__(self, x, r, m_A):\n",
        "    self.x = x\n",
        "    self.r = r\n",
        "    self.m_A = m_A\n",
        "    self.u = -1\n",
        "    self.v = -1\n",
        "    self.z_B = -1\n",
        "\n",
        "  def Receive(self, v, z_B):\n",
        "    \"\"\"\n",
        "      param v: a number that Bob computes and Alice receives from him.\n",
        "      param z_B: a boolean number that Bob sends to Alice.\n",
        "    \"\"\"\n",
        "    self.v = v\n",
        "    self.z_B = z_B\n",
        "\n",
        "  def Send(self):\n",
        "    \"\"\"\n",
        "      Returns:\n",
        "      u: a number that Alice computes and sends to Bob.\n",
        "    \"\"\"\n",
        "    u = (self.x + self.r) % 2**n\n",
        "    self.u = u\n",
        "    return u\n",
        "\n",
        "  def Output(self):\n",
        "    \"\"\"\n",
        "      Returns:\n",
        "      z: Alice's output.\n",
        "    \"\"\"\n",
        "    z = np.bitwise_xor(self.m_A[self.u][self.v], self.z_B)\n",
        "    return z"
      ],
      "metadata": {
        "id": "8CslaYcVyglm"
      },
      "execution_count": 166,
      "outputs": []
    },
    {
      "cell_type": "markdown",
      "source": [
        "## Bob's Class:"
      ],
      "metadata": {
        "id": "A_PtW0f8h4YO"
      }
    },
    {
      "cell_type": "code",
      "source": [
        "class Bob:\n",
        "  \"\"\"\n",
        "    param y: Bob's input.\n",
        "    param c: Bob's random value. \n",
        "    param m_B: Bob's random boolean matrix.\n",
        "    param u: a number that Alice computes and Bob receives from her.\n",
        "  \"\"\"\n",
        "  \n",
        "  def __init__(self, y, c, m_B):\n",
        "    self.y = y\n",
        "    self.c = c\n",
        "    self.m_B = m_B\n",
        "    self.u = -1\n",
        "\n",
        "  def Receive(self, u):\n",
        "    \"\"\"\n",
        "      param u: a number that Alice computes and Bob receives from her.\n",
        "    \"\"\"\n",
        "    self.u = u\n",
        "\n",
        "  def Send(self):\n",
        "    \"\"\"\n",
        "      Returns:\n",
        "      v: a number that Bob computes and sends to Alice.\n",
        "      z_B: a boolean number that Bob computes and sends to Alice.\n",
        "    \"\"\"\n",
        "    v = (self.y + self.c) % 2**n\n",
        "    z_B = self.m_B[self.u][v]\n",
        "    return v, z_B"
      ],
      "metadata": {
        "id": "tV8F6Dw-zvDM"
      },
      "execution_count": 167,
      "outputs": []
    },
    {
      "cell_type": "code",
      "source": [
        "def plot(pp_time, npp_time):\n",
        "  x = ['(0,0)','(0,1)','(0,2)','(0,3)','(1,0)','(1,1)','(1,2)','(1,3)','(2,0)','(2,1)','(2,2)','(2,3)','(3,0)','(3,1)','(3,2)','(3,3)']\n",
        "  plt.figure(figsize=(8, 4))\n",
        "  plt.scatter(x,pp_time, label='privacy-preserving', s=50, color='#00FF00', alpha=0.5)\n",
        "  plt.scatter(x,npp_time, label='not privacy-preserving', s=10, color='#FF3131', alpha=1)\n",
        "  plt.xlabel('input (x,a)')\n",
        "  plt.ylabel('time per execution')\n",
        "  plt.legend()\n",
        "  \n",
        "  plt.show()"
      ],
      "metadata": {
        "id": "n7nToHorlTkP"
      },
      "execution_count": 168,
      "outputs": []
    },
    {
      "cell_type": "code",
      "source": [
        "vec_a = [0,1,2,3]\n",
        "vec_x = [0,1,2,3]"
      ],
      "metadata": {
        "id": "1rD6XCFoBINk"
      },
      "execution_count": 169,
      "outputs": []
    },
    {
      "cell_type": "markdown",
      "source": [
        "## **Privacy-preserving computation:**"
      ],
      "metadata": {
        "id": "asy3WpENBJ8x"
      }
    },
    {
      "cell_type": "code",
      "source": [
        "pp_z = np.zeros((2**n)*(2**n), dtype=int)\n",
        "idx = 0\n",
        "pp_time = np.zeros((2**n)*(2**n), dtype=float)\n",
        "for i in range(len(vec_x)):\n",
        "  for j in range(len(vec_a)):\n",
        "    pp_time[idx] = time.time()\n",
        "    \n",
        "    dealer = Dealer()\n",
        "    r, m_A=dealer.RandA()\n",
        "    c, m_B =dealer.RandB()\n",
        "    alice = Alice(x=vec_x[i], r=r, m_A=m_A)\n",
        "    bob = Bob(y=vec_a[j], c=c, m_B=m_B)\n",
        "    bob.Receive(alice.Send())\n",
        "    v, z_B = bob.Send()\n",
        "    alice.Receive(v=v,z_B=z_B)\n",
        "    pp_z[idx] = alice.Output()\n",
        "    pp_time[idx] = time.time() - pp_time[idx]\n",
        "    idx = idx + 1"
      ],
      "metadata": {
        "id": "eecEQ0SchaT9"
      },
      "execution_count": 170,
      "outputs": []
    },
    {
      "cell_type": "markdown",
      "source": [
        "## **Not privacy-preserving computation:**"
      ],
      "metadata": {
        "id": "p_HcETcuBPLF"
      }
    },
    {
      "cell_type": "code",
      "source": [
        "npp_z = np.zeros((2**n)*(2**n), dtype=int)\n",
        "idx = 0\n",
        "npp_time = np.zeros((2**n)*(2**n), dtype=float)\n",
        "for i in range(len(vec_x)):\n",
        "  for j in range(len(vec_a)):\n",
        "    npp_time[idx] = time.time()\n",
        "    if vec_a[j]*vec_x[i] >= 4:\n",
        "      npp_z[idx] = 1\n",
        "    else:\n",
        "      npp_z[idx] = 0\n",
        "    npp_time[idx] = time.time() - npp_time[idx]\n",
        "    idx = idx + 1"
      ],
      "metadata": {
        "id": "hYDkpB9XBQku"
      },
      "execution_count": 171,
      "outputs": []
    },
    {
      "cell_type": "code",
      "source": [
        "plot(pp_time, npp_time)"
      ],
      "metadata": {
        "colab": {
          "base_uri": "https://localhost:8080/",
          "height": 388
        },
        "id": "GbL4YXPyBUSH",
        "outputId": "783715b0-2656-4177-c505-c66c7c268b0b"
      },
      "execution_count": 172,
      "outputs": [
        {
          "output_type": "display_data",
          "data": {
            "text/plain": [
              "<Figure size 800x400 with 1 Axes>"
            ],
            "image/png": "[encoded data removed]"
          },
          "metadata": {}
        }
      ]
    }
  ]
}