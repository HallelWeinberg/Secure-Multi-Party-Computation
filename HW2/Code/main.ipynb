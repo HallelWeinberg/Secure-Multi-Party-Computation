{
  "nbformat": 4,
  "nbformat_minor": 0,
  "metadata": {
    "colab": {
      "provenance": []
    },
    "kernelspec": {
      "name": "python3",
      "display_name": "Python 3"
    },
    "language_info": {
      "name": "python"
    }
  },
  "cells": [
    {
      "cell_type": "markdown",
      "source": [
        "# **One-Time Truth Table**\n"
      ],
      "metadata": {
        "id": "3G656KMYgb5i"
      }
    },
    {
      "cell_type": "code",
      "execution_count": null,
      "metadata": {
        "id": "1POQomj_xvus"
      },
      "outputs": [],
      "source": [
        "import numpy as np"
      ]
    },
    {
      "cell_type": "markdown",
      "source": [
        "n is a global variable:"
      ],
      "metadata": {
        "id": "xibh93lJg4SL"
      }
    },
    {
      "cell_type": "code",
      "source": [
        "n = 2"
      ],
      "metadata": {
        "id": "kzxcbqmm-6Fa"
      },
      "execution_count": null,
      "outputs": []
    },
    {
      "cell_type": "markdown",
      "source": [
        "## Dealer's Class:"
      ],
      "metadata": {
        "id": "xn1bnprShhEQ"
      }
    },
    {
      "cell_type": "code",
      "source": [
        "class Dealer:\n",
        "  \"\"\"\n",
        "    param r: number of rows for rotation of the truth table.\n",
        "    param c: number of columns for rotation of the truth table.\n",
        "    param truth_table: a matrix that represents the truth table of the equation.\n",
        "    param m_A: the xor result of the truth table and matrix m_B.\n",
        "    param m_B: a boolean random matrix of size 2^n by 2^n.\n",
        "  \"\"\"\n",
        "  \n",
        "  def __init__(self):\n",
        "\n",
        "    self.r = np.random.randint(0,2**n)\n",
        "    self.c = np.random.randint(0,2**n)\n",
        "\n",
        "    self.truth_table = np.zeros((2**n,2**n), dtype=int)\n",
        "\n",
        "    # Initialize the truth table\n",
        "    for i in range(0,2**n):\n",
        "      for j in range(0,2**n):\n",
        "        if (i*j) >= 4:\n",
        "          self.truth_table[i][j] = 1\n",
        "        else:\n",
        "          self.truth_table[i][j] = 0\n",
        "\n",
        "    # Creating a matrix with random boolean values\n",
        "    self.m_B = [[np.random.randint(0, 1) for j in range(2**n)] for i in range(2**n)]\n",
        "    \n",
        "    # Calculation of matrix m_A\n",
        "    self.m_A = np.zeros((2**n,2**n), dtype=int)\n",
        "    for i in range(0,2**n):\n",
        "      for j in range(0,2**n):\n",
        "        self.m_A[i][j] = np.bitwise_xor(self.truth_table[(i - self.r) % 2**n][(j - self.c) % 2**n], self.m_B[i][j])\n",
        "      \n",
        "  def RandA(self):\n",
        "    \"\"\"\n",
        "      Returns:\n",
        "      r: Alice's random value.\n",
        "      m_A: Alice's random boolean matrix.\n",
        "    \"\"\"\n",
        "    return self.r, self.m_A\n",
        "\n",
        "  def RandB(self):\n",
        "    \"\"\"\n",
        "      Returns:\n",
        "      c: Bob's random value.\n",
        "      m_B: Bob's random boolean matrix.\n",
        "    \"\"\"\n",
        "    return self.c, self.m_B"
      ],
      "metadata": {
        "id": "4sOTQwjiy4dh"
      },
      "execution_count": null,
      "outputs": []
    },
    {
      "cell_type": "markdown",
      "source": [
        "## Alice's Class:"
      ],
      "metadata": {
        "id": "ccz8SXFZhztd"
      }
    },
    {
      "cell_type": "code",
      "source": [
        "class Alice:\n",
        "  \"\"\"\n",
        "    param x: Alice's input.\n",
        "    param r: Alice's random value.\n",
        "    param m_A: Alice's random boolean matrix.\n",
        "    param u: a number that Alice computes and sends to Bob.\n",
        "    param v: a number that Bob computes and Alice receives from him.\n",
        "    param z_B: a boolean number that Bob sends to Alice.\n",
        "  \"\"\"\n",
        "\n",
        "  def __init__(self, x, r, m_A):\n",
        "    self.x = x\n",
        "    self.r = r\n",
        "    self.m_A = m_A\n",
        "    self.u = -1\n",
        "    self.v = -1\n",
        "    self.z_B = -1\n",
        "\n",
        "  def Receive(self, v, z_B):\n",
        "    \"\"\"\n",
        "      param v: a number that Bob computes and Alice receives from him.\n",
        "      param z_B: a boolean number that Bob sends to Alice.\n",
        "    \"\"\"\n",
        "    self.v = v\n",
        "    self.z_B = z_B\n",
        "\n",
        "  def Send(self):\n",
        "    \"\"\"\n",
        "      Returns:\n",
        "      u: a number that Alice computes and sends to Bob.\n",
        "    \"\"\"\n",
        "    u = (self.x + self.r) % 2**n\n",
        "    self.u = u\n",
        "    return u\n",
        "\n",
        "  def Output(self):\n",
        "    \"\"\"\n",
        "      Returns:\n",
        "      z: Alice's output.\n",
        "    \"\"\"\n",
        "    z = np.bitwise_xor(self.m_A[self.u][self.v], self.z_B)\n",
        "    return z"
      ],
      "metadata": {
        "id": "8CslaYcVyglm"
      },
      "execution_count": null,
      "outputs": []
    },
    {
      "cell_type": "markdown",
      "source": [
        "## Bob's Class:"
      ],
      "metadata": {
        "id": "A_PtW0f8h4YO"
      }
    },
    {
      "cell_type": "code",
      "source": [
        "class Bob:\n",
        "  \"\"\"\n",
        "    param y: Bob's input.\n",
        "    param c: Bob's random value. \n",
        "    param m_B: Bob's random boolean matrix.\n",
        "    param u: a number that Alice computes and Bob receives from her.\n",
        "  \"\"\"\n",
        "  \n",
        "  def __init__(self, y, c, m_B):\n",
        "    self.y = y\n",
        "    self.c = c\n",
        "    self.m_B = m_B\n",
        "    self.u = -1\n",
        "\n",
        "  def Receive(self, u):\n",
        "    \"\"\"\n",
        "      param u: a number that Alice computes and Bob receives from her.\n",
        "    \"\"\"\n",
        "    self.u = u\n",
        "\n",
        "  def Send(self):\n",
        "    \"\"\"\n",
        "      Returns:\n",
        "      v: a number that Bob computes and sends to Alice.\n",
        "      z_B: a boolean number that Bob computes and sends to Alice.\n",
        "    \"\"\"\n",
        "    v = (self.y + self.c) % 2**n\n",
        "    z_B = self.m_B[self.u][v]\n",
        "    return v, z_B"
      ],
      "metadata": {
        "id": "tV8F6Dw-zvDM"
      },
      "execution_count": null,
      "outputs": []
    },
    {
      "cell_type": "markdown",
      "source": [
        "## The Protocol:"
      ],
      "metadata": {
        "id": "Ak0xEbLHh828"
      }
    },
    {
      "cell_type": "markdown",
      "source": [
        "### Generate $a\\in{0,1,2,3}$ and $x\\in{0,1,2,3}$"
      ],
      "metadata": {
        "id": "lVM6bL2GiMZ2"
      }
    },
    {
      "cell_type": "code",
      "source": [
        "a = np.random.randint(0,2**n)\n",
        "x = np.random.randint(0,2**n)\n",
        "\n",
        "print(\"a =\", a)\n",
        "print(\"x =\", x)"
      ],
      "metadata": {
        "id": "A-civeKWiKEA",
        "colab": {
          "base_uri": "https://localhost:8080/"
        },
        "outputId": "7f642596-76a7-4a0c-b9b4-61969058cb7f"
      },
      "execution_count": null,
      "outputs": [
        {
          "output_type": "stream",
          "name": "stdout",
          "text": [
            "a = 0\n",
            "x = 1\n"
          ]
        }
      ]
    },
    {
      "cell_type": "markdown",
      "source": [
        "### Offline Phase:"
      ],
      "metadata": {
        "id": "b2cYbLQzilZd"
      }
    },
    {
      "cell_type": "code",
      "source": [
        "dealer = Dealer()\n",
        "r, m_A=dealer.RandA()\n",
        "c, m_B=dealer.RandB()"
      ],
      "metadata": {
        "id": "Qqg9mDUS0R4m"
      },
      "execution_count": null,
      "outputs": []
    },
    {
      "cell_type": "markdown",
      "source": [
        "### Online Phase:"
      ],
      "metadata": {
        "id": "nmpbL1v8lp9z"
      }
    },
    {
      "cell_type": "markdown",
      "source": [
        "Initialization of Alice and Bob:"
      ],
      "metadata": {
        "id": "4EmVQbAXmD1F"
      }
    },
    {
      "cell_type": "code",
      "source": [
        "Alice = Alice(x=x, r=r, m_A=m_A)\n",
        "Bob = Bob(y=a, c=c, m_B=m_B)"
      ],
      "metadata": {
        "id": "QsHslzpwl0Ue"
      },
      "execution_count": null,
      "outputs": []
    },
    {
      "cell_type": "markdown",
      "source": [
        "Alice computes $u$ and sends it to Bob:"
      ],
      "metadata": {
        "id": "kYY2rWzkmQK1"
      }
    },
    {
      "cell_type": "code",
      "source": [
        "Bob.Receive(Alice.Send())"
      ],
      "metadata": {
        "id": "-x2trbBvmC7z"
      },
      "execution_count": null,
      "outputs": []
    },
    {
      "cell_type": "markdown",
      "source": [
        "Bob computes $v$ and $z_B$ and sends them back to Alice:"
      ],
      "metadata": {
        "id": "0Tcg1ZpanErl"
      }
    },
    {
      "cell_type": "code",
      "source": [
        "v, z_B = Bob.Send()\n",
        "Alice.Receive(v=v,z_B=z_B)"
      ],
      "metadata": {
        "id": "q245HndVnFeC"
      },
      "execution_count": null,
      "outputs": []
    },
    {
      "cell_type": "markdown",
      "source": [
        "Alice outputs:"
      ],
      "metadata": {
        "id": "UJ26lwCjo701"
      }
    },
    {
      "cell_type": "code",
      "source": [
        "z = Alice.Output()\n",
        "print(\"z =\", z)"
      ],
      "metadata": {
        "colab": {
          "base_uri": "https://localhost:8080/"
        },
        "id": "YgNSuANTo8Fv",
        "outputId": "a9474977-e7fc-4d95-c91a-1e8e205bd2ae"
      },
      "execution_count": null,
      "outputs": [
        {
          "output_type": "stream",
          "name": "stdout",
          "text": [
            "z = 0\n"
          ]
        }
      ]
    },
    {
      "cell_type": "markdown",
      "source": [
        "### In short:"
      ],
      "metadata": {
        "id": "MtMDw3kKsgMn"
      }
    },
    {
      "cell_type": "markdown",
      "source": [
        "for $a,x$:\n"
      ],
      "metadata": {
        "id": "mXAzqXiPpe3i"
      }
    },
    {
      "cell_type": "code",
      "source": [
        "print(\"a =\", a)\n",
        "print(\"x =\", x)"
      ],
      "metadata": {
        "colab": {
          "base_uri": "https://localhost:8080/"
        },
        "id": "69fxZBa9sRfM",
        "outputId": "c34d5ab1-9030-4ee3-ad49-9a59de3f1627"
      },
      "execution_count": null,
      "outputs": [
        {
          "output_type": "stream",
          "name": "stdout",
          "text": [
            "a = 0\n",
            "x = 1\n"
          ]
        }
      ]
    },
    {
      "cell_type": "markdown",
      "source": [
        "The output of $f_{a,4}(x)$ is:"
      ],
      "metadata": {
        "id": "GasQqphVsR2O"
      }
    },
    {
      "cell_type": "code",
      "source": [
        "print(z)"
      ],
      "metadata": {
        "colab": {
          "base_uri": "https://localhost:8080/"
        },
        "id": "riZqBd07pcNx",
        "outputId": "74e632f1-e8e1-416d-8169-5180a674c987"
      },
      "execution_count": null,
      "outputs": [
        {
          "output_type": "stream",
          "name": "stdout",
          "text": [
            "0\n"
          ]
        }
      ]
    }
  ]
}