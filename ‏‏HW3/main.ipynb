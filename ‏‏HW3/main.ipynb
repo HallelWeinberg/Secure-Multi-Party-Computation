{
  "nbformat": 4,
  "nbformat_minor": 0,
  "metadata": {
    "colab": {
      "provenance": []
    },
    "kernelspec": {
      "name": "python3",
      "display_name": "Python 3"
    },
    "language_info": {
      "name": "python"
    }
  },
  "cells": [
    {
      "cell_type": "markdown",
      "source": [
        "# **BeDoZa protocol**\n",
        "\n",
        "\n"
      ],
      "metadata": {
        "id": "3G656KMYgb5i"
      }
    },
    {
      "cell_type": "code",
      "execution_count": null,
      "metadata": {
        "id": "1POQomj_xvus"
      },
      "outputs": [],
      "source": [
        "import numpy as np"
      ]
    },
    {
      "cell_type": "markdown",
      "source": [
        "n is a global variable:"
      ],
      "metadata": {
        "id": "xibh93lJg4SL"
      }
    },
    {
      "cell_type": "code",
      "source": [
        "n = 4\n",
        "number_of_AND_gates = 21\n",
        "number_of_layer = 0\n",
        "layers = 14\n",
        "number_of_curr_AND = 0\n",
        "d = 0\n",
        "e = 0"
      ],
      "metadata": {
        "id": "kzxcbqmm-6Fa"
      },
      "execution_count": null,
      "outputs": []
    },
    {
      "cell_type": "markdown",
      "source": [
        "## Dealer's Class:"
      ],
      "metadata": {
        "id": "xn1bnprShhEQ"
      }
    },
    {
      "cell_type": "code",
      "source": [
        "class Dealer:\n",
        "  \"\"\"\n",
        "    param u: an array of random samples from {0,1}.\n",
        "    param v: an array of random samples from {0,1}.\n",
        "    param w: the result of u ⋅ v.\n",
        "    param u_A: an array such that u = u_A ⨁ u_B.\n",
        "    param v_A: an array such that v = v_A ⨁ v_B.\n",
        "    param w_A: an array such that w = w_A ⨁ w_B.\n",
        "    param u_B: an array such that u = u_A ⨁ u_B.\n",
        "    param v_B: an array such that v = v_A ⨁ v_B.\n",
        "    param w_B: an array such that w = w_A ⨁ w_B.\n",
        "    param circuit: an array that represents a Boolean circuit.\n",
        "  \"\"\"\n",
        "  \n",
        "  def __init__(self):\n",
        "    self.u = [np.random.randint(0,2) for i in range(number_of_AND_gates)]\n",
        "    self.v = [np.random.randint(0,2) for i in range(number_of_AND_gates)]\n",
        "    self.w = np.bitwise_and(self.u, self.v)\n",
        "\n",
        "    self.u_A = [np.random.randint(0,2) for i in range(number_of_AND_gates)]\n",
        "    self.v_A = [np.random.randint(0,2) for i in range(number_of_AND_gates)]\n",
        "    self.w_A = [np.random.randint(0,2) for i in range(number_of_AND_gates)]\n",
        "\n",
        "    self.u_B = np.bitwise_xor(self.u, self.u_A)\n",
        "    self.v_B = np.bitwise_xor(self.v, self.v_A)\n",
        "    self.w_B = np.bitwise_xor(self.w, self.w_A)\n",
        "\n",
        "    \"\"\"\n",
        "    An array that represents a Boolean circuit as follows:\n",
        "    each row i represents the ith layer in the circuit. Each member j in row i represents the j logical gate (from left to right) in layer i.\n",
        "    define:\n",
        "      Each logic gate is marked as follows: (g, i, wire1, wire2)\n",
        "      When:\n",
        "        - g is 0 if the gate is an xor and 1 if the gate is an and gate.\n",
        "        - i is 1 if wire2 is a fixed number (c) and 0 otherwise.\n",
        "        - wire1 is the index of the first wire (for the array of gate results from the previous layers) that enters the gate.\n",
        "        - wire2 is the second wire of the gate: can be a fixed number (0 or 1) or the *index* of the second wire.\n",
        "    \"\"\"\n",
        "    self.circuit = np.array([[(1,0,0,4), (1,0,0,5), (1,0,1,4), (1,0,1,5), (1,0,2,6), (1,0,2,7), (1,0,3,6), (1,0,3,7)],\n",
        "                             [(0,1,0,0), (1,0,1,2), (0,0,1,2), (0,1,3,0), (0,1,4,0), (1,0,5,6), (0,0,5,6), (0,1,7,0)],\n",
        "                             [(1,0,0,1), (0,0,0,1), (0,1,2,0), (0,1,3,0), (1,0,4,5), (0,0,4,5), (0,1,6,0), (0,1,7,0)],\n",
        "                             [(1,0,0,4), (0,0,0,4), (1,0,1,5), (0,0,1,5), (1,0,2,6), (0,0,2,6), (1,0,3,7), (0,0,3,7)],\n",
        "                             [(0,1,0,0), (0,1,1,0), (0,1,2,0), (0,1,3,0), (0,1,4,0), (1,0,5,6), (0,0,5,6), (0,1,7,0)],\n",
        "                             [(0,1,0,0), (0,1,1,0), (0,1,2,0), (0,1,3,0), (0,0,4,5), (0,1,6,0), (0,1,7,0)],\n",
        "                             [(0,1,0,0), (0,1,1,0), (0,1,2,0), (1,0,3,4), (0,0,3,4), (0,1,5,0), (0,1,6,0)],\n",
        "                             [(0,1,0,0), (0,1,1,0), (0,0,2,3), (0,1,4,0), (0,1,5,0), (0,1,6,0)],\n",
        "                             [(0,1,0,0), (1,0,1,2), (0,0,1,2), (0,1,3,0), (0,1,4,0), (0,1,5,0)],\n",
        "                             [(0,0,0,1), (0,1,2,0), (0,1,3,0), (0,1,4,0), (0,1,5,0)],\n",
        "                             [(1,0,0,1), (0,0,0,1), (0,1,2,0)],\n",
        "                             [(0,0,0,1), (0,1,2,0)],\n",
        "                             [(1,0,0,1), (0,0,0,1)],\n",
        "                             [(0,0,0,1)]], dtype=object)\n",
        "      \n",
        "  def RandA(self):\n",
        "    \"\"\"\n",
        "      Returns:\n",
        "      - circuit: the Boolean circuit of the function.\n",
        "      - u_A: an array such that u = u_A ⨁ u_B.\n",
        "      - v_A: an array such that v = v_A ⨁ v_B.\n",
        "      - w_A: an array such that w = w_A ⨁ w_B.\n",
        "    \"\"\"\n",
        "    return self.circuit, self.u_A, self.v_A, self.w_A\n",
        "\n",
        "  def RandB(self):\n",
        "    \"\"\"\n",
        "      Returns:\n",
        "      - u_B: an array such that u = u_A ⨁ u_B.\n",
        "      - v_B: an array such that v = v_A ⨁ v_B.\n",
        "      - w_B: an array such that w = w_A ⨁ w_B.\n",
        "    \"\"\"\n",
        "    return self.circuit, self.u_B, self.v_B, self.w_B"
      ],
      "metadata": {
        "id": "4sOTQwjiy4dh"
      },
      "execution_count": null,
      "outputs": []
    },
    {
      "cell_type": "markdown",
      "source": [
        "## Alice's Class:"
      ],
      "metadata": {
        "id": "ccz8SXFZhztd"
      }
    },
    {
      "cell_type": "code",
      "source": [
        "class Alice:\n",
        "  \"\"\"\n",
        "    param x: Alice's input.\n",
        "    param circuit: an array that represents a Boolean circuit.\n",
        "    param A: Alice's array of inputs after Alice and Bob share their input wires.\n",
        "    param u_A: an array of random samples from {0,1}.\n",
        "    param v_A: an array of random samples from {0,1}.\n",
        "    param w_A: an array of random samples from {0,1}.\n",
        "    param i: a temporary array that holds indexes. \n",
        "    param z_B: an array that Bob sends to Alice.\n",
        "  \"\"\"\n",
        "\n",
        "  def __init__(self, x, circuit, u_A, v_A, w_A):\n",
        "    self.x = x\n",
        "    self.circuit = circuit\n",
        "\n",
        "    self.A = np.zeros((2*n), dtype=int)\n",
        "    for i in range(n):\n",
        "      self.A[i] = np.random.randint(0,2)\n",
        "    \n",
        "    self.u_A = u_A\n",
        "    self.v_A = v_A\n",
        "    self.w_A = w_A\n",
        "\n",
        "    self.i = -1\n",
        "    self.z_B = -1\n",
        "\n",
        "  def ReceiveY_A(self, y_A):\n",
        "    \"\"\"\n",
        "      param y_A: an array such that (y_A, y_B) <- Share(B, y).\n",
        "    \"\"\"\n",
        "    for i in range(n,2*n):\n",
        "      self.A[i] = y_A[i - 2*n]\n",
        "\n",
        "  def SendX_B(self):\n",
        "    \"\"\"\n",
        "      Returns:\n",
        "      - x_B: an array such that (x_A, x_B) <- Share(A, x).\n",
        "    \"\"\"\n",
        "    x_B = np.zeros((n), dtype=int)\n",
        "    for i in range(0,n):\n",
        "      x_B[i] = np.bitwise_xor(self.x[i], self.A[i])\n",
        "    return x_B\n",
        "\n",
        "  def Receive(self, z_B):\n",
        "    \"\"\"\n",
        "      param z_B: an array of the results of the gates (of Bob) that Bob computes and Alice receives from him.\n",
        "    \"\"\"\n",
        "    global number_of_layer\n",
        "    global number_of_curr_AND\n",
        "    global d, e\n",
        "\n",
        "    self.z_B = z_B\n",
        "    \n",
        "    for idx in range(len(self.circuit[number_of_layer])):\n",
        "      if self.i[idx] != -1:\n",
        "        number_of_current_AND = self.A[self.i[idx]][2]\n",
        "        r1 = np.bitwise_xor(self.w_A[number_of_current_AND], np.bitwise_and(e[self.i[idx]], np.bitwise_xor(self.A[self.i[idx]][0], self.u_A[number_of_current_AND])))\n",
        "        r2 = np.bitwise_and(d[self.i[idx]], np.bitwise_xor(self.A[self.i[idx]][1], self.v_A[number_of_current_AND]))\n",
        "        self.A[self.i[idx]] = np.bitwise_xor(r1, r2)\n",
        "        d[self.i[idx]] = -1\n",
        "        e[self.i[idx]] = -1\n",
        "        self.i[idx] = -1\n",
        "    number_of_layer += 1\n",
        "\n",
        "  def Send(self):\n",
        "    \"\"\"\n",
        "      param z_A: a temporary array of the results of the gates (of Alice) that Alice computes and sends to Bob.\n",
        "      Returns:\n",
        "      - ANDS: an array such that ANDS[i] = [x_A ⨁ u_A, y_A ⨁ v_A, #AND].\n",
        "    \"\"\"\n",
        "    global number_of_curr_AND\n",
        "    z_A = [0 for i in range(len(self.circuit[number_of_layer]))]\n",
        "    ANDS = [-1 for i in range(len(self.circuit[number_of_layer]))]\n",
        "    self.i = [-1 for i in range(len(self.circuit[number_of_layer]))]\n",
        "    idx = 0\n",
        "    for i in range(len(self.circuit[number_of_layer])):\n",
        "      if self.circuit[number_of_layer][i][0] == 0:      # XOR\n",
        "        if self.circuit[number_of_layer][i][1] == 0:    # XOR([x],[y])\n",
        "          z_A[i] = np.bitwise_xor(self.A[self.circuit[number_of_layer][i][2]], self.A[self.circuit[number_of_layer][i][3]])\n",
        "        else:                                           # XOR([x],c)\n",
        "          z_A[i] = np.bitwise_xor(self.A[self.circuit[number_of_layer][i][2]], self.circuit[number_of_layer][i][3])\n",
        "      \n",
        "      else:                                             # AND\n",
        "        if self.circuit[number_of_layer][i][1] == 0:    # AND([x],[y])\n",
        "          self.i[idx] = i\n",
        "          idx += 1\n",
        "          z_A[i] = [np.bitwise_xor(self.A[self.circuit[number_of_layer][i][2]], self.u_A[number_of_curr_AND]), np.bitwise_xor(self.A[self.circuit[number_of_layer][i][3]], self.v_A[number_of_curr_AND]), number_of_curr_AND]\n",
        "          ANDS[i] = z_A[i]\n",
        "          number_of_curr_AND += 1       \n",
        "        else: # AND([x],c)\n",
        "          z_A[i] = np.bitwise_and(self.A[self.circuit[number_of_layer][i][2]], self.circuit[number_of_layer][i][3])\n",
        "    self.A = z_A\n",
        "    return ANDS\n",
        "\n",
        "  def hasOutput(self):\n",
        "    \"\"\"\n",
        "      Returns:\n",
        "        - True/False: a Boolean value indicating whether Alice has input.\n",
        "    \"\"\"\n",
        "    if  number_of_layer < layers:\n",
        "      return False\n",
        "    return True\n",
        "\n",
        "  def Output(self):\n",
        "    \"\"\"\n",
        "      Returns:\n",
        "      - z: Alice's output.\n",
        "    \"\"\"\n",
        "    return np.bitwise_xor(self.z_B[0], self.A[0])"
      ],
      "metadata": {
        "id": "8CslaYcVyglm"
      },
      "execution_count": null,
      "outputs": []
    },
    {
      "cell_type": "markdown",
      "source": [
        "## Bob's Class:"
      ],
      "metadata": {
        "id": "A_PtW0f8h4YO"
      }
    },
    {
      "cell_type": "code",
      "source": [
        "class Bob:\n",
        "  \"\"\"\n",
        "    param y: Bob's input.\n",
        "    param circuit: an array that represents a Boolean circuit.\n",
        "    param B: Bob's array of inputs after Alice and Bob share their input wires.\n",
        "    param u_B: an array of random samples from {0,1}.\n",
        "    param v_B: an array of random samples from {0,1}.\n",
        "    param w_B: an array of random samples from {0,1}.\n",
        "  \"\"\"\n",
        "  \n",
        "  def __init__(self, y, circuit, u_B, v_B, w_B):\n",
        "    self.y = y\n",
        "    self.circuit = circuit\n",
        "    self.B = np.zeros((2*n), dtype=int)\n",
        "    self.u_B = u_B\n",
        "    self.v_B = v_B\n",
        "    self.w_B = w_B\n",
        "\n",
        "\n",
        "  def ReceiveX_B(self, x_B):\n",
        "    \"\"\"\n",
        "      param x_B: an array such that (x_A, x_B) <- Share(A, x).\n",
        "    \"\"\"\n",
        "    for i in range(0,n):\n",
        "      self.B[i] = x_B[i]\n",
        "  \n",
        "  def SendY_A(self):\n",
        "    \"\"\"\n",
        "      Returns:\n",
        "      - y_A: an array such that (y_A, y_B) <- Share(B, y).\n",
        "    \"\"\"\n",
        "    y_A = np.zeros((n), dtype=int)\n",
        "    for i in range(n,2*n):\n",
        "      self.B[i] = np.random.randint(0,2)\n",
        "      y_A[i - n] = np.bitwise_xor(self.y[i - n], self.B[i])\n",
        "    return y_A\n",
        "\n",
        "  def Receive(self, ANDS):\n",
        "    \"\"\"\n",
        "      param ANDS: an array such that ANDS[i] = [x_A ⨁ u_A, y_A ⨁ v_A, #AND].\n",
        "    \"\"\"\n",
        "    global d, e\n",
        "    z_B = [0 for i in range(len(self.circuit[number_of_layer]))]\n",
        "    d = [-1 for i in range(len(self.circuit[number_of_layer]))]\n",
        "    e = [-1 for i in range(len(self.circuit[number_of_layer]))]\n",
        "    for i in range(len(self.circuit[number_of_layer])):\n",
        "      if self.circuit[number_of_layer][i][0] == 0:         # XOR\n",
        "        if self.circuit[number_of_layer][i][1] == 0: # XOR([x],[y])\n",
        "          z_B[i] = np.bitwise_xor(self.B[self.circuit[number_of_layer][i][2]], self.B[self.circuit[number_of_layer][i][3]])\n",
        "        else: # XOR([x],c)\n",
        "          z_B[i] = self.B[self.circuit[number_of_layer][i][2]]\n",
        "      else:                                                 # AND\n",
        "        if self.circuit[number_of_layer][i][1] == 0: # AND([x],[y])\n",
        "          number_of_current_AND = ANDS[i][2]\n",
        "          d[i] = np.bitwise_xor(ANDS[i][0], np.bitwise_xor(self.B[self.circuit[number_of_layer][i][2]], self.u_B[number_of_current_AND]))\n",
        "          e[i] = np.bitwise_xor(ANDS[i][1], np.bitwise_xor(self.B[self.circuit[number_of_layer][i][3]], self.v_B[number_of_current_AND]))\n",
        "          r1 = np.bitwise_xor(self.w_B[number_of_current_AND], np.bitwise_and(e[i], self.B[self.circuit[number_of_layer][i][2]]))\n",
        "          r2 = np.bitwise_xor(np.bitwise_and(d[i], self.B[self.circuit[number_of_layer][i][3]]), np.bitwise_and(e[i], d[i]))\n",
        "          z_B[i] = np.bitwise_xor(r1, r2)\n",
        "        else: # AND([x],c)\n",
        "          z_B[i] = np.bitwise_and(self.B[self.circuit[number_of_layer][i][2]], self.circuit[number_of_layer][i][2])\n",
        "    self.B = z_B\n",
        "\n",
        "  def Send(self):\n",
        "    \"\"\"\n",
        "      Returns:\n",
        "      - z_B: an array of the results of the gates (of Bob) that Bob computes and sends to Alice.\n",
        "    \"\"\"\n",
        "    z_B = self.B\n",
        "    return z_B"
      ],
      "metadata": {
        "id": "tV8F6Dw-zvDM"
      },
      "execution_count": null,
      "outputs": []
    },
    {
      "cell_type": "markdown",
      "source": [
        "## The Protocol:"
      ],
      "metadata": {
        "id": "Ak0xEbLHh828"
      }
    },
    {
      "cell_type": "markdown",
      "source": [
        "### Generate $\\vec{a}=(a_1,a_2) \\in {\\{0,1,2,3\\}^2}$ and $\\vec{x}=(x_1,x_2) \\in {\\{0,1,2,3\\}^2}$"
      ],
      "metadata": {
        "id": "lVM6bL2GiMZ2"
      }
    },
    {
      "cell_type": "code",
      "source": [
        "a_vec = [np.random.randint(0,2) for i in range(n)]\n",
        "x_vec = [np.random.randint(0,2) for i in range(n)]\n",
        "\n",
        "print(\"a =\", a_vec)\n",
        "print(\"x =\", x_vec)"
      ],
      "metadata": {
        "id": "A-civeKWiKEA",
        "colab": {
          "base_uri": "https://localhost:8080/"
        },
        "outputId": "57ded3e3-d56a-4237-e5c0-625de6aa288e"
      },
      "execution_count": null,
      "outputs": [
        {
          "output_type": "stream",
          "name": "stdout",
          "text": [
            "a = [0, 1, 0, 1]\n",
            "x = [0, 1, 1, 1]\n"
          ]
        }
      ]
    },
    {
      "cell_type": "markdown",
      "source": [
        "### Offline Phase:"
      ],
      "metadata": {
        "id": "b2cYbLQzilZd"
      }
    },
    {
      "cell_type": "code",
      "source": [
        "dealer = Dealer()\n",
        "circuit_A, u_A, v_A, w_A = dealer.RandA()\n",
        "circuit_B, u_B, v_B, w_B = dealer.RandB()"
      ],
      "metadata": {
        "id": "Qqg9mDUS0R4m"
      },
      "execution_count": null,
      "outputs": []
    },
    {
      "cell_type": "markdown",
      "source": [
        "### Online Phase:"
      ],
      "metadata": {
        "id": "nmpbL1v8lp9z"
      }
    },
    {
      "cell_type": "markdown",
      "source": [
        "Initialization of Alice and Bob:"
      ],
      "metadata": {
        "id": "4EmVQbAXmD1F"
      }
    },
    {
      "cell_type": "code",
      "source": [
        "Alice = Alice(x=x_vec, circuit=circuit_A, u_A=u_A, v_A=v_A, w_A=w_A)\n",
        "Bob = Bob(y=a_vec, circuit=circuit_B, u_B=u_B, v_B=v_B, w_B=w_B)"
      ],
      "metadata": {
        "id": "QsHslzpwl0Ue"
      },
      "execution_count": null,
      "outputs": []
    },
    {
      "cell_type": "markdown",
      "source": [
        "Secret sharing:"
      ],
      "metadata": {
        "id": "SoJiLtSd78k0"
      }
    },
    {
      "cell_type": "code",
      "source": [
        "Bob.ReceiveX_B(x_B=Alice.SendX_B())\n",
        "Alice.ReceiveY_A(y_A=Bob.SendY_A())"
      ],
      "metadata": {
        "id": "4sZxvfX9780_"
      },
      "execution_count": null,
      "outputs": []
    },
    {
      "cell_type": "code",
      "source": [
        "while Alice.hasOutput() == False:\n",
        "  ANDS = Alice.Send()\n",
        "  Bob.Receive(ANDS=ANDS)\n",
        "  z_B = Bob.Send()\n",
        "  Alice.Receive(z_B=z_B)"
      ],
      "metadata": {
        "id": "qxCXVzgrPqIa"
      },
      "execution_count": null,
      "outputs": []
    },
    {
      "cell_type": "markdown",
      "source": [
        "Alice outputs:"
      ],
      "metadata": {
        "id": "UJ26lwCjo701"
      }
    },
    {
      "cell_type": "code",
      "source": [
        "z = Alice.Output()\n",
        "print(\"z =\", z)"
      ],
      "metadata": {
        "colab": {
          "base_uri": "https://localhost:8080/"
        },
        "id": "YgNSuANTo8Fv",
        "outputId": "b0d81487-897d-404f-e88c-0916ab005147"
      },
      "execution_count": null,
      "outputs": [
        {
          "output_type": "stream",
          "name": "stdout",
          "text": [
            "z = 1\n"
          ]
        }
      ]
    },
    {
      "cell_type": "markdown",
      "source": [
        "### In short:"
      ],
      "metadata": {
        "id": "MtMDw3kKsgMn"
      }
    },
    {
      "cell_type": "markdown",
      "source": [
        "for $a = (a_{11}a_{10}, a_{21}a_{20}), x = (x_{11}x_{10}, x_{21}x_{20})$:\n"
      ],
      "metadata": {
        "id": "mXAzqXiPpe3i"
      }
    },
    {
      "cell_type": "code",
      "source": [
        "print(\"a =\", a_vec)\n",
        "print(\"x =\", x_vec)"
      ],
      "metadata": {
        "colab": {
          "base_uri": "https://localhost:8080/"
        },
        "id": "69fxZBa9sRfM",
        "outputId": "818cd13b-83a0-44e6-bc38-49c643c1c447"
      },
      "execution_count": null,
      "outputs": [
        {
          "output_type": "stream",
          "name": "stdout",
          "text": [
            "a = [0, 1, 0, 1]\n",
            "x = [0, 1, 1, 1]\n"
          ]
        }
      ]
    },
    {
      "cell_type": "markdown",
      "source": [
        "The output of $f_{a⃗,4}(x_1,x_2)$ is:"
      ],
      "metadata": {
        "id": "GasQqphVsR2O"
      }
    },
    {
      "cell_type": "code",
      "source": [
        "print(z)"
      ],
      "metadata": {
        "colab": {
          "base_uri": "https://localhost:8080/"
        },
        "id": "riZqBd07pcNx",
        "outputId": "aa4c5bc0-ec92-42cd-c009-000d590530d7"
      },
      "execution_count": null,
      "outputs": [
        {
          "output_type": "stream",
          "name": "stdout",
          "text": [
            "1\n"
          ]
        }
      ]
    }
  ]
}