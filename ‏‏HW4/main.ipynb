{
  "nbformat": 4,
  "nbformat_minor": 0,
  "metadata": {
    "colab": {
      "provenance": []
    },
    "kernelspec": {
      "name": "python3",
      "display_name": "Python 3"
    },
    "language_info": {
      "name": "python"
    }
  },
  "cells": [
    {
      "cell_type": "markdown",
      "source": [
        "# **BeDOZa Protocol With MACs**\n",
        "\n",
        "\n"
      ],
      "metadata": {
        "id": "3G656KMYgb5i"
      }
    },
    {
      "cell_type": "code",
      "execution_count": 1036,
      "metadata": {
        "id": "1POQomj_xvus"
      },
      "outputs": [],
      "source": [
        "import numpy as np"
      ]
    },
    {
      "cell_type": "code",
      "source": [
        "p = 41"
      ],
      "metadata": {
        "id": "kzxcbqmm-6Fa"
      },
      "execution_count": 1037,
      "outputs": []
    },
    {
      "cell_type": "markdown",
      "source": [
        "The definition of the function:"
      ],
      "metadata": {
        "id": "r5yilQ2zLRDN"
      }
    },
    {
      "cell_type": "code",
      "source": [
        "n = 2\n",
        "list_of_mults = [(False, 0, 2), (False, 1, 3)]\n",
        "greater_than = 4"
      ],
      "metadata": {
        "id": "6tCe4YJ-J67_"
      },
      "execution_count": 1038,
      "outputs": []
    },
    {
      "cell_type": "markdown",
      "source": [
        "Global auxiliary variables:"
      ],
      "metadata": {
        "id": "0tdiZvwXEfzL"
      }
    },
    {
      "cell_type": "code",
      "source": [
        "number_of_curr_MULT = 0\n",
        "d_array = []\n",
        "e_array = []"
      ],
      "metadata": {
        "id": "Rt8eeONaEe2-"
      },
      "execution_count": 1039,
      "outputs": []
    },
    {
      "cell_type": "markdown",
      "source": [
        "## MAC's Class:"
      ],
      "metadata": {
        "id": "hNwLiuMToZrs"
      }
    },
    {
      "cell_type": "code",
      "source": [
        "class MAC:\n",
        "  def __init__(self, x, key, tag):\n",
        "    self.value = x\n",
        "    self.key = key\n",
        "    self.tag = tag"
      ],
      "metadata": {
        "id": "mIVc72sclXwV"
      },
      "execution_count": 1040,
      "outputs": []
    },
    {
      "cell_type": "markdown",
      "source": [
        "## Node of Circuit's Class\n",
        "The Node class represents a node in a circuit, which can have two input parents and an operator (op) that defines the operation to be performed on the parents' values. A Circuit is then made up of a collection of Node instances that are interconnected to form a larger computational graph."
      ],
      "metadata": {
        "id": "aB6LcC8Yo7BL"
      }
    },
    {
      "cell_type": "code",
      "source": [
        "class Node:\n",
        "  def __init__(self, op, constant, parent1, parent2):\n",
        "    self.value = None\n",
        "    self.constant = constant        # contains \"False\" if the operator is applied to x,y and \"True\" if the operator is applied to x,c\n",
        "    self.op = op                    # contains \"+\" or \"*\"\n",
        "    self.parent1 = parent1\n",
        "    self.parent2 = parent2\n",
        "    self.sons = []\n",
        "    self.output = False             # contains \"True\" if this is leaf in the circuit and \"False\" otherwise\n",
        "    self.tag = -1\n",
        "    self.key = -1"
      ],
      "metadata": {
        "id": "Nu3Wjk2HLrAm"
      },
      "execution_count": 1041,
      "outputs": []
    },
    {
      "cell_type": "markdown",
      "source": [
        "## Circuit's Class:"
      ],
      "metadata": {
        "id": "ynWaTYHELre1"
      }
    },
    {
      "cell_type": "code",
      "source": [
        "class Circuit:\n",
        "  def __init__(self, n, input, MULTS, number, p):\n",
        "    self.number_of_mult_gates = 0\n",
        "    self.n = n\n",
        "    self.input = input\n",
        "    self.MULTS = MULTS\n",
        "    self.p = p\n",
        "    self.number = number\n",
        "    self.results_of_greater_than = []\n",
        "\n",
        "  def Mul(self, parent1, parent2, constant):\n",
        "    self.number_of_mult_gates += 1\n",
        "    node_mul = Node(\"*\", constant, parent1, parent2)\n",
        "    parent1.sons.append(node_mul)\n",
        "    if constant == False:\n",
        "      parent2.sons.append(node_mul)\n",
        "    return node_mul\n",
        "\n",
        "\n",
        "  def Add(self, parent1, parent2, constant):\n",
        "    node_add = Node(\"+\", constant, parent1, parent2)\n",
        "    parent1.sons.append(node_add)\n",
        "    if constant == False:\n",
        "      parent2.sons.append(node_add)\n",
        "    return node_add\n",
        "\n",
        "  def while_of_visited(self, visited, op, const_flag):\n",
        "    new_visited = []\n",
        "    while len(visited) > 1:\n",
        "      for i in range(0, len(visited), 2):\n",
        "        if (i + 1) >= len(visited):\n",
        "          new_visited.append(visited[i])\n",
        "        else:\n",
        "          new_visited.append(op(visited[i], visited[i + 1], const_flag))\n",
        "      visited = new_visited.copy()\n",
        "      new_visited = []\n",
        "    return visited[0]\n",
        "\n",
        "  def GreaterThan(self, parent):\n",
        "    results_of_power = []\n",
        "\n",
        "    for i in range(self.number):\n",
        "      node = self.Add(parent1=parent, parent2=np.negative(i), constant=True)\n",
        "      results_of_power.append(node)\n",
        "      for j in range(self.p - 2):\n",
        "        node_son = self.Mul(parent1=results_of_power[i], parent2=node, constant=False)\n",
        "        results_of_power[i] = node_son\n",
        "\n",
        "    result = self.while_of_visited(results_of_power, self.Mul, False)\n",
        "    return result\n",
        "\n",
        "  def Not(self, parent):\n",
        "    node = self.Add(parent, -1, True)\n",
        "    node_not = self.Mul(node, -1, True)\n",
        "    return node_not\n",
        "\n",
        "  def sum(self, parent1, parent2, constant):\n",
        "    sum = self.Add(parent1, parent2, False)\n",
        "    self.results_of_greater_than.append(self.GreaterThan(sum))\n",
        "    return sum\n",
        "\n",
        "  def GenerateCircuit(self):\n",
        "    nodes = np.zeros((2 * self.n), dtype=object)\n",
        "    visited = []\n",
        "    new_visited = []\n",
        "    results_of_mul = []\n",
        "    results_of_greater_than = []\n",
        "    results_of_not = []\n",
        "    for i in range(len(self.input)):\n",
        "        nodes[i] = Node(None, False, None, None)\n",
        "        nodes[i].value = self.input[i]\n",
        "    for mult in self.MULTS:\n",
        "        constant = mult[0]\n",
        "        parent1 = nodes[mult[1]]\n",
        "        if constant == False:\n",
        "            parent2 = nodes[mult[2]]\n",
        "        else:\n",
        "            parent2 = mult[2]\n",
        "        mul = self.Mul(parent1, parent2, constant)\n",
        "        results_of_mul.append(mul)\n",
        "    for mul in results_of_mul:\n",
        "        results_of_greater_than.append(self.GreaterThan(mul))\n",
        "\n",
        "    self.results_of_greater_than = []\n",
        "    result = self.while_of_visited(results_of_mul, self.sum, False)\n",
        "    results_of_greater_than = self.results_of_greater_than\n",
        "    results_of_greater_than.append(self.GreaterThan(result))\n",
        "\n",
        "    for node in results_of_greater_than:\n",
        "      results_of_not.append(self.Not(node))\n",
        "\n",
        "    result = self.while_of_visited(results_of_not, self.Mul, False)\n",
        "    result = self.Not(result)\n",
        "    result.output = True\n",
        "    return nodes, self.number_of_mult_gates"
      ],
      "metadata": {
        "id": "GelOOXMeKTiE"
      },
      "execution_count": 1042,
      "outputs": []
    },
    {
      "cell_type": "markdown",
      "source": [
        "## Dealer's Class:"
      ],
      "metadata": {
        "id": "xn1bnprShhEQ"
      }
    },
    {
      "cell_type": "code",
      "source": [
        "class Dealer:\n",
        "    \"\"\"\n",
        "    Attributes:\n",
        "      - param circuitA: an object of Circuit that represents an arithmetic circuit of Alice.\n",
        "      - param circuitB: an object of Circuit that represents an arithmetic circuit of Bob.\n",
        "      - param number_of_mult_gates: number of mult gates in the circuit.\n",
        "      - param u: an array of random samples from {0,p-1}.\n",
        "      - param v: an array of random samples from {0,p-1}.\n",
        "      - param w: the result of u * v.\n",
        "      - param u_A: an array of MACs from {0,p-1} such that u = (u_A.value + u_B.value) % p.\n",
        "      - param v_A: an array of MACs from {0,p-1} such that u = (v_A.value + v_B.value) % p.\n",
        "      - param w_A: an array of MACs from {0,p-1} such that u = (w_A.value + w_B.value) % p.\n",
        "      - param u_B: an array of MACs from {0,p-1} such that u = (u_A.value + u_B.value) % p.\n",
        "      - param v_B: an array of MACs from {0,p-1} such that u = (v_A.value + v_B.value) % p.\n",
        "      - param w_B: an array of MACs from {0,p-1} such that u = (w_A.value + w_B.value) % p.\n",
        "      - param r: an array of random samples from {0,p-1}.\n",
        "      - param r_A: an array of MACs from {0,p-1} such that r = (r_A.value + r_B.value) % p.\n",
        "      - param r_B: an array of MACs from {0,p-1} such that r = (r_A.value + r_B.value) % p.\n",
        "    \"\"\"\n",
        "\n",
        "    def __init__(self):\n",
        "      input = np.zeros((2*n), dtype=int)\n",
        "      circuit = Circuit(n, input, list_of_mults, greater_than, p)\n",
        "      self.circuitA, self.number_of_mult_gates = circuit.GenerateCircuit()\n",
        "      self.circuitB, self.number_of_mult_gates = circuit.GenerateCircuit()\n",
        "\n",
        "      alphaA = np.random.randint(0, p)\n",
        "      alphaB = np.random.randint(0, p)\n",
        "\n",
        "      self.u = [np.random.randint(0, p) for i in range(self.number_of_mult_gates)]\n",
        "      self.v = [np.random.randint(0, p) for i in range(self.number_of_mult_gates)]\n",
        "      self.w = np.multiply(self.u, self.v)\n",
        "\n",
        "      self.u_A = [np.random.randint(0, p) for i in range(self.number_of_mult_gates)]\n",
        "      self.v_A = [np.random.randint(0, p) for i in range(self.number_of_mult_gates)]\n",
        "      self.w_A = [np.random.randint(0, p) for i in range(self.number_of_mult_gates)]\n",
        "\n",
        "      self.u_B = np.subtract(self.u, self.u_A) % p\n",
        "      self.v_B = np.subtract(self.v, self.v_A) % p\n",
        "      self.w_B = np.subtract(self.w, self.w_A) % p\n",
        "\n",
        "      self.u_A, self.u_B = self.CreateMACs(inputA=self.u_A, inputB=self.u_B, alphaA=alphaA, alphaB=alphaB)\n",
        "      self.v_A, self.v_B = self.CreateMACs(inputA=self.v_A, inputB=self.v_B, alphaA=alphaA, alphaB=alphaB)\n",
        "      self.w_A, self.w_B = self.CreateMACs(inputA=self.w_A, inputB=self.w_B, alphaA=alphaA, alphaB=alphaB)\n",
        "\n",
        "      self.r = [np.random.randint(0, p) for i in range(2 * n)]\n",
        "      self.r_A = [np.random.randint(0, p) for i in range(2 * n)]\n",
        "      self.r_B = np.subtract(self.r, self.r_A) % p\n",
        "\n",
        "      self.r_A, self.r_B = self.CreateMACs(inputA=self.r_A, inputB=self.r_B, alphaA=alphaA, alphaB=alphaB)\n",
        "\n",
        "    def RandA(self):\n",
        "      \"\"\"\n",
        "      Returns:\n",
        "        - circuitA: an object of Circuit that represents an arithmetic circuit of Alice.\n",
        "        - u_A: an array of MACs from {0,p-1} such that u = (u_A.value + u_B.value) % p.\n",
        "        - v_A: an array of MACs from {0,p-1} such that v = (v_A.value + v_B.value) % p.\n",
        "        - w_A: an array of MACs from {0,p-1} such that w = (w_A.value + w_B.value) % p.\n",
        "      \"\"\"\n",
        "      return self.circuitA, self.u_A, self.v_A, self.w_A, self.r_A, self.number_of_mult_gates\n",
        "\n",
        "    def RandB(self):\n",
        "      \"\"\"\n",
        "      Returns:\n",
        "        - circuitB: an object of Circuit that represents an arithmetic circuit of Bob.\n",
        "        - u_B: an array of MACs from {0,p-1} such that u = (u_A + u_B) % p.\n",
        "        - v_B: an array of MACs from {0,p-1} such that v = (v_A + v_B) % p.\n",
        "        - w_B: an array of MACs from {0,p-1} such that w = (w_A + w_B) % p.\n",
        "      \"\"\"\n",
        "      return self.circuitB, self.u_B, self.v_B, self.w_B, self.r_B, self.number_of_mult_gates\n",
        "\n",
        "    def CreateMACs(self, inputA, inputB, alphaA, alphaB):\n",
        "      \"\"\"\n",
        "      Attributes:\n",
        "        - param inputA: an array of random samples from {0,p-1} of Alice.\n",
        "        - param inputB: an array of random samples from {0,p-1} of Bob.\n",
        "        - param alphaA: Alice's alpha from {0,p-1}.\n",
        "        - param alphaB: Bob's alpha from {0,p-1}.\n",
        "      Returns:\n",
        "        - circuitB: an object of Circuit that represents an arithmetic circuit of Bob.\n",
        "        - u_B: an array of MACs from {0,p-1} such that u = (u_A + u_B) % p.\n",
        "        - v_B: an array of MACs from {0,p-1} such that v = (v_A + v_B) % p.\n",
        "        - w_B: an array of MACs from {0,p-1} such that w = (w_A + w_B) % p.\n",
        "      \"\"\"\n",
        "      macs_arrayA = np.zeros(len(inputA), dtype=object)\n",
        "      macs_arrayB = np.zeros(len(inputB), dtype=object)\n",
        "      for i in range(len(inputA)):\n",
        "        x_A = inputA[i]\n",
        "        x_B = inputB[i]\n",
        "        beta_A = np.random.randint(0, p)\n",
        "        beta_B = np.random.randint(0, p)\n",
        "        tag_A = (alphaB * x_A + beta_B) % p\n",
        "        tag_B = (alphaA * x_B + beta_A) % p\n",
        "        macs_arrayA[i] = MAC(x_A, (alphaA, beta_A), tag_A)\n",
        "        macs_arrayB[i] = MAC(x_B, (alphaB, beta_B), tag_B)\n",
        "      return macs_arrayA, macs_arrayB"
      ],
      "metadata": {
        "id": "4sOTQwjiy4dh"
      },
      "execution_count": 1043,
      "outputs": []
    },
    {
      "cell_type": "markdown",
      "source": [
        "## Alice's Class:"
      ],
      "metadata": {
        "id": "ccz8SXFZhztd"
      }
    },
    {
      "cell_type": "code",
      "source": [
        "class Alice:\n",
        "    \"\"\"\n",
        "    Attributes:\n",
        "      - param circuit: an object of Circuit that represents an arithmetic circuit.\n",
        "      - param number_of_mult_gates: number of mult gates in the circuit\n",
        "      - param x: Alice's input.\n",
        "      - param u_A: an array of MACs from {0,p-1}.\n",
        "      - param v_A: an array of MACs from {0,p-1}.\n",
        "      - param w_A: an array of MACs from {0,p-1}.\n",
        "      - param r_A: an array of MACs from {0,p-1}.\n",
        "      - param mults: a temporary array that holds the indexes of mult gates in a specific layer.\n",
        "      - param z_A: an array that holds the leaf node in Alice's circuit.\n",
        "      - param z_B: an array that Bob sends to Alice and holds the leaf node in Bob's circuit.\n",
        "      - param visited: a list that contains all the nodes in the next layer.\n",
        "      - param occurred_nodes: a list that contains all the nodes we have already calculated their value.\n",
        "    \"\"\"\n",
        "\n",
        "    def __init__(self, circuit, x, u_A, v_A, w_A, r_A, number_of_mult_gates):\n",
        "      self.x = x\n",
        "      self.circuit = circuit\n",
        "      self.number_of_mult_gates = number_of_mult_gates\n",
        "\n",
        "      self.u_A = u_A\n",
        "      self.v_A = v_A\n",
        "      self.w_A = w_A\n",
        "\n",
        "      self.r_A = r_A\n",
        "\n",
        "      self.mults = []\n",
        "      self.visited = []\n",
        "      self.occurred_nodes = []\n",
        "\n",
        "      self.z_A = None\n",
        "      self.z_B = None\n",
        "\n",
        "    def OpenTo(self, node_x_A, node_x_B):\n",
        "      \"\"\"\n",
        "      Attributes:\n",
        "        - param node_x_A: a node of x_A.\n",
        "        - param node_x_B: a node of x_B.\n",
        "      Returns:\n",
        "        - x: returs OpenTo(x_A, x_B) if Verify(x_B, k_A, t_B) = ACCEPT and False otherwise.\n",
        "      \"\"\"\n",
        "      if type(node_x_A) is np.ndarray and type(node_x_B) is np.ndarray:\n",
        "        x = np.zeros((len(node_x_A)), dtype=int)\n",
        "        for i in range(len(node_x_A)):\n",
        "          x[i] = np.add(node_x_A[i].value, node_x_B[i].value) % p\n",
        "          if not self.Verify(node_x_B[i].value, node_x_A[i].key, node_x_B[i].tag):\n",
        "            return False\n",
        "      else:\n",
        "        x = np.add(node_x_A.value, node_x_B.value) % p\n",
        "        if not self.Verify(node_x_B.value, node_x_A.key, node_x_B.tag):\n",
        "          return False\n",
        "      return x\n",
        "\n",
        "    def ReceiveR_BAndSendD(self, r_B):\n",
        "      \"\"\"\n",
        "      Attributes:\n",
        "        - param r_B: an array of MACs from {0,p-1}.\n",
        "      Returns:\n",
        "        - d: an array such that d[i] = x[i] - r[i].\n",
        "      \"\"\"\n",
        "      r = self.OpenTo(self.r_A[:n], r_B)\n",
        "\n",
        "      d = np.zeros((n), dtype=int)\n",
        "      for i in range(0, n):\n",
        "        d[i] = self.x[i] - r[i]\n",
        "        self.circuit[i].value, self.circuit[i].key, self.circuit[i].tag = self.ADD_with_const(self.r_A[i], d[i])\n",
        "      return d\n",
        "\n",
        "    def SendR_A(self):\n",
        "      \"\"\"\n",
        "      Returns:\n",
        "        - r_A: an array of MACs from {0,p-1}.\n",
        "      \"\"\"\n",
        "      return self.r_A[n:]\n",
        "\n",
        "    def ReceiveD(self, d):\n",
        "      \"\"\"\n",
        "      Attributes:\n",
        "        - param d: such that d[i] = y[i] - r[i].\n",
        "      \"\"\"\n",
        "      for i in range(n, 2*n):\n",
        "        self.circuit[i].value, self.circuit[i].key, self.circuit[i].tag = self.ADD_with_const(self.r_A[i], d[i - n])\n",
        "\n",
        "      for i in range(len(self.circuit)):\n",
        "        for son in self.circuit[i].sons:\n",
        "          self.visited.append(son)\n",
        "        self.occurred_nodes.append(self.circuit[i])\n",
        "      return\n",
        "\n",
        "    def ADD(self, node_x, node_y):\n",
        "      \"\"\"\n",
        "      Attributes:\n",
        "        - param node_x: a node of x.\n",
        "        - param node_y: a node of y.\n",
        "      Returns:\n",
        "        - z_A: x_A + y_A.\n",
        "        - k_Az: (alpha_x, beta_x + beta_y).\n",
        "        - t_Az: t_x + t_y.\n",
        "      \"\"\"\n",
        "      key_x = node_x.key\n",
        "      key_y = node_y.key\n",
        "\n",
        "      z_A = (node_x.value + node_y.value) % p\n",
        "      k_Az = (key_x[0] % p, (key_x[1] + key_y[1]) % p)\n",
        "      t_Az = (node_x.tag + node_y.tag) % p\n",
        "      return z_A, k_Az, t_Az\n",
        "\n",
        "    def ADD_with_const(self, node_x, c):\n",
        "      \"\"\"\n",
        "      Attributes:\n",
        "        - param node_x: a node of x.\n",
        "        - param c: a value of c.\n",
        "      Returns:\n",
        "        - z_A: x_A + c.\n",
        "        - k_Az: (alpha_x, beta_x).\n",
        "        - t_Az: t_x.\n",
        "      \"\"\"\n",
        "      key_x = node_x.key\n",
        "\n",
        "      z_A = (node_x.value + c) % p\n",
        "      k_Az = (key_x[0] % p, key_x[1] % p)\n",
        "      t_Az = node_x.tag % p\n",
        "      return z_A, k_Az, t_Az\n",
        "\n",
        "    def MULT(self, node_x, node_y, u_A, v_A, w_A, d, e):\n",
        "      \"\"\"\n",
        "      Attributes:\n",
        "        - param node_x: a node of x.\n",
        "        - param node_y: a node of y.\n",
        "        - u_A: a MAC.\n",
        "        - v_A: a MAC.\n",
        "        - w_A: a MAC.\n",
        "        - d: OpenTo(d_A, d_B).\n",
        "        - e: OpenTo(e_A, e_B).\n",
        "      Returns:\n",
        "        - z_A: x_A * y_A.\n",
        "        - k_Az: (alpha_x, beta_new).\n",
        "        - t_Az: t_new.\n",
        "      \"\"\"\n",
        "      key_x = node_x.key\n",
        "      key_y = node_y.key\n",
        "\n",
        "      z_mul1, k_mul1, t_mul1 = self.MULT_with_const(u_A, e)\n",
        "      z_mul2, k_mul2, t_mul2 = self.MULT_with_const(v_A, d)\n",
        "\n",
        "      mac1 = MAC(z_mul1, k_mul1, t_mul1)\n",
        "      mac2 = MAC(z_mul2, k_mul2, t_mul2)\n",
        "\n",
        "      z_add1, k_add1, t_add1 = self.ADD(mac1, mac2)\n",
        "      mac3 = MAC(z_add1, k_add1, t_add1)\n",
        "\n",
        "      z_add2, k_add2, t_add2 = self.ADD(w_A, mac3)\n",
        "      mac4 = MAC(z_add2, k_add2, t_add2)\n",
        "\n",
        "      z_A, k_Az, t_Az = self.ADD_with_const(mac4, e*d)\n",
        "      return z_A, k_Az, t_Az\n",
        "\n",
        "    def MULT_with_const(self, node_x, c):\n",
        "      \"\"\"\n",
        "      Attributes:\n",
        "        - param node_x: a node of x.\n",
        "        - param c: a value of c.\n",
        "      Returns:\n",
        "        - z_A: x_A * c.\n",
        "        - k_Az: (alpha_x, beta_x * c).\n",
        "        - t_Az: t_x * c.\n",
        "      \"\"\"\n",
        "      key_x = node_x.key\n",
        "\n",
        "      z_A = (node_x.value * c) % p\n",
        "      k_Az = (key_x[0] % p, (key_x[1] * c) % p)\n",
        "      t_Az = (node_x.tag * c) % p\n",
        "      return z_A, k_Az, t_Az\n",
        "\n",
        "    def Receive(self, z_B):\n",
        "        \"\"\"\n",
        "        Attributes:\n",
        "          param z_B: an array of the leaf in Bob's circuit.\n",
        "        \"\"\"\n",
        "        global d_array, e_array\n",
        "\n",
        "        self.z_B = z_B\n",
        "\n",
        "        for mult_node in self.mults:\n",
        "            node_x_A = mult_node.parent1\n",
        "            node_y_A = mult_node.parent2\n",
        "            number_of_current_MULT = mult_node.value\n",
        "            mult_node.value, mult_node.key, mult_node.tag = self.MULT(node_x_A, node_y_A, self.u_A[number_of_current_MULT], self.v_A[number_of_current_MULT], self.w_A[number_of_current_MULT], d_array[0], e_array[0])\n",
        "            del d_array[0]\n",
        "            del e_array[0]\n",
        "        d_array = []\n",
        "        e_array = []\n",
        "        self.mults.clear()\n",
        "\n",
        "    def Send(self):\n",
        "      \"\"\"\n",
        "      Returns:\n",
        "        - MULTS: an array that holds the indexes of mult gates in a specific layer.\n",
        "      \"\"\"\n",
        "      global number_of_curr_MULT\n",
        "\n",
        "      MULTS = []\n",
        "      new_visited = []\n",
        "      \n",
        "      if len(self.visited) == 1:\n",
        "        self.z_A = self.visited[0]\n",
        "\n",
        "      for node in self.visited:\n",
        "        node_x_A = node.parent1\n",
        "        if node.constant == False:\n",
        "          node_y_A = node.parent2\n",
        "        else:\n",
        "          c = node.parent2\n",
        "\n",
        "        if node.value is None:\n",
        "          if node.op == \"+\" and node.constant:\n",
        "            node.value, node.key, node.tag = self.ADD_with_const(node_x_A, c)\n",
        "\n",
        "          if node.op == \"+\" and not node.constant:\n",
        "            node.value, node.key, node.tag = self.ADD(node_x_A, node_y_A)\n",
        "\n",
        "          if node.op == \"*\" and node.constant:\n",
        "            node.value, node.key, node.tag = self.MULT_with_const(node_x_A, c)\n",
        "\n",
        "          if node.op == \"*\" and not node.constant:\n",
        "            self.mults.append(node)\n",
        "            d_A = np.subtract(node_x_A.value, self.u_A[number_of_curr_MULT].value) % p\n",
        "            e_A = np.subtract(node_y_A.value, self.v_A[number_of_curr_MULT].value) % p\n",
        "            node.value = number_of_curr_MULT\n",
        "            MULTS.append([d_A, e_A, number_of_curr_MULT])\n",
        "            number_of_curr_MULT += 1\n",
        "              \n",
        "          self.occurred_nodes.append(node)\n",
        "          if len(node.sons) != 0:\n",
        "            for son in node.sons:\n",
        "              if son.parent1 in self.occurred_nodes and (son.constant or son.parent2 in self.occurred_nodes):\n",
        "                new_visited.append(son)\n",
        "\n",
        "      self.visited = new_visited.copy()\n",
        "      new_visited.clear()\n",
        "      return MULTS\n",
        "\n",
        "    def hasOutput(self):\n",
        "      \"\"\"\n",
        "      Returns:\n",
        "        - True/False: a Boolean value indicating whether Alice has input.\n",
        "      \"\"\"\n",
        "      if self.z_B is not None:\n",
        "        return True\n",
        "      return False\n",
        "\n",
        "    def Output(self):\n",
        "      \"\"\"\n",
        "      Returns:\n",
        "        - z: Alice's output.\n",
        "      \"\"\"\n",
        "      z = self.OpenTo(self.z_A, self.z_B[0])\n",
        "      return z\n",
        "\n",
        "    def Verify(self, x, k, t):\n",
        "      \"\"\"\n",
        "      Attributes:\n",
        "        - param x: a value of x.\n",
        "        - param k: a tuple of key.\n",
        "        - param t: a tag.\n",
        "      Returns:\n",
        "        - True or False: True if Ver(x,k,t) = ACCEPT and False if Ver(x,k,t) = ABORT.\n",
        "      \"\"\"\n",
        "      if (k[0] * x + k[1]) % p == t:\n",
        "        return True\n",
        "      else:\n",
        "        return False"
      ],
      "metadata": {
        "id": "8CslaYcVyglm"
      },
      "execution_count": 1044,
      "outputs": []
    },
    {
      "cell_type": "markdown",
      "source": [
        "## Bob's Class:"
      ],
      "metadata": {
        "id": "A_PtW0f8h4YO"
      }
    },
    {
      "cell_type": "code",
      "source": [
        "class Bob:\n",
        "    \"\"\"\n",
        "    Attributes:\n",
        "      - param circuit: an object of Circuit that represents an arithmetic circuit.\n",
        "      - param number_of_mult_gates: number of mult gates in the circuit\n",
        "      - param y: Bobs's input.\n",
        "      - param u_B: an array of MACs from {0,p-1}.\n",
        "      - param v_B: an array of MACs from {0,p-1}.\n",
        "      - param w_B: an array of MACs from {0,p-1}.\n",
        "      - param r_B: an array of MACs from {0,p-1}.\n",
        "      - param z_B: an array that Bob sends to Alice and holds the leaf node in Bob's circuit.\n",
        "      - param visited: a list that contains all the nodes in the next layer.\n",
        "      - param occurred_nodes: a list that contains all the nodes we have already calculated their value.\n",
        "    \"\"\"\n",
        "\n",
        "    def __init__(self, circuit, y, u_B, v_B, w_B, r_B, number_of_mult_gates):\n",
        "      self.y = y\n",
        "      self.circuit = circuit\n",
        "      self.number_of_mult_gates = number_of_mult_gates\n",
        "\n",
        "      self.u_B = u_B\n",
        "      self.v_B = v_B\n",
        "      self.w_B = w_B\n",
        "\n",
        "      self.r_B = r_B\n",
        "      \n",
        "      self.visited = []\n",
        "      self.occurred_nodes = []\n",
        "\n",
        "      self.z_B = None\n",
        "\n",
        "    def OpenTo(self, node_x_A, node_x_B):\n",
        "      \"\"\"\n",
        "      Attributes:\n",
        "        - param node_x_A: a node of x_A.\n",
        "        - param node_x_B: a node of x_B.\n",
        "      Returns:\n",
        "        - x: returs OpenTo(x_A, x_B) if Verify(x_A, k_B, t_A) = ACCEPT and False otherwise.\n",
        "      \"\"\"\n",
        "      if type(node_x_A) is np.ndarray and type(node_x_B) is np.ndarray:\n",
        "        x = np.zeros((len(node_x_A)), dtype=int)\n",
        "        for i in range(len(node_x_A)):\n",
        "          x[i] = np.add(node_x_A[i].value, node_x_B[i].value) % p\n",
        "          if not self.Verify(node_x_A[i].value, node_x_B[i].key, node_x_A[i].tag):\n",
        "            return False\n",
        "      else:\n",
        "        x = np.add(node_x_A.value, node_x_B.value) % p\n",
        "        if not self.Verify(node_x_A.value, node_x_B.key, node_x_A.tag):\n",
        "          return False\n",
        "      return x\n",
        "\n",
        "    def SendR_B(self):\n",
        "      \"\"\"\n",
        "      Returns:\n",
        "        - r_B: an array of MACs from {0,p-1}.\n",
        "      \"\"\"\n",
        "      return self.r_B[:n]\n",
        "\n",
        "    def ReceiveD(self, d):\n",
        "      \"\"\"\n",
        "      Attributes:\n",
        "        - param d: such that d[i] = x[i] - r[i].\n",
        "      \"\"\"\n",
        "      for i in range(0,n):\n",
        "        self.circuit[i].value, self.circuit[i].key, self.circuit[i].tag = self.ADD_with_const(self.r_B[i], d[i])\n",
        "\n",
        "    def ReceiveR_AAndSendD(self, r_A):\n",
        "      \"\"\"\n",
        "      Attributes:\n",
        "        - param r_A: an array of MACs from {0,p-1}.\n",
        "      Returns:\n",
        "        - d: an array such that d[i] = y[i] - r[i].\n",
        "      \"\"\"\n",
        "      r = self.OpenTo(r_A, self.r_B[n:])\n",
        "\n",
        "      d = np.zeros((n), dtype=int)\n",
        "      for i in range(0, n):\n",
        "        d[i] = self.y[i] - r[i]\n",
        "        self.circuit[i + n].value, self.circuit[i + n].key, self.circuit[i + n].tag = self.ADD_with_const(self.r_B[i + n], d[i])\n",
        "\n",
        "      for i in range(len(self.circuit)):\n",
        "        for son in self.circuit[i].sons:\n",
        "          self.visited.append(son)\n",
        "        self.occurred_nodes.append(self.circuit[i])\n",
        "      return d\n",
        "\n",
        "    def ADD(self, node_x, node_y):\n",
        "      \"\"\"\n",
        "      Attributes:\n",
        "        - param node_x: a node of x.\n",
        "        - param node_y: a node of y.\n",
        "      Returns:\n",
        "        - z_B: x_B + y_B.\n",
        "        - k_Bz: (alpha_x, beta_x + beta_y).\n",
        "        - t_Bz: t_x + t_y.\n",
        "      \"\"\"\n",
        "      key_x = node_x.key\n",
        "      key_y = node_y.key\n",
        "\n",
        "      z_B = (node_x.value + node_y.value) % p\n",
        "      k_Bz = (key_x[0] % p, (key_x[1] + key_y[1]) % p)\n",
        "      t_Bz = (node_x.tag + node_y.tag) % p\n",
        "      return z_B, k_Bz, t_Bz\n",
        "\n",
        "    def ADD_with_const(self, node_x, c):\n",
        "      \"\"\"\n",
        "      Attributes:\n",
        "        - param node_x: a node of x.\n",
        "        - param c: a value of c.\n",
        "      Returns:\n",
        "        - z_B: x_B + c.\n",
        "        - k_Bz: (alpha_x, beta_x - c * alpha_x).\n",
        "        - t_Bz: t_x.\n",
        "      \"\"\"\n",
        "      key_x = node_x.key\n",
        "\n",
        "      z_B = (node_x.value) % p\n",
        "      k_Bz = (key_x[0] % p, (key_x[1] - c * key_x[0]) % p)\n",
        "      t_Bz = node_x.tag % p\n",
        "      return z_B, k_Bz, t_Bz\n",
        "\n",
        "    def MULT(self, node_x, node_y, u_B, v_B, w_B, d, e):\n",
        "      \"\"\"\n",
        "      Attributes:\n",
        "        - param node_x: a node of x.\n",
        "        - param node_y: a node of y.\n",
        "        - u_B: a MAC.\n",
        "        - v_B: a MAC.\n",
        "        - w_B: a MAC.\n",
        "        - d: OpenTo(d_A, d_B).\n",
        "        - e: OpenTo(e_A, e_B).\n",
        "      Returns:\n",
        "        - z_B: x_B * y_B.\n",
        "        - k_Bz: (alpha_x, beta_new).\n",
        "        - t_Bz: t_new.\n",
        "      \"\"\"\n",
        "      key_x = node_x.key\n",
        "      key_y = node_y.key\n",
        "\n",
        "      z_mul1, k_mul1, t_mul1 = self.MULT_with_const(u_B, e)\n",
        "      z_mul2, k_mul2, t_mul2 = self.MULT_with_const(v_B, d)\n",
        "\n",
        "      mac1 = MAC(z_mul1, k_mul1, t_mul1)\n",
        "      mac2 = MAC(z_mul2, k_mul2, t_mul2)\n",
        "\n",
        "      z_add1, k_add1, t_add1 = self.ADD(mac1, mac2)\n",
        "      mac3 = MAC(z_add1, k_add1, t_add1)\n",
        "\n",
        "      z_add2, k_add2, t_add2 = self.ADD(w_B, mac3)\n",
        "      mac4 = MAC(z_add2, k_add2, t_add2)\n",
        "\n",
        "      z_B, k_Bz, t_Bz = self.ADD_with_const(mac4, e*d)\n",
        "      return z_B, k_Bz, t_Bz\n",
        "\n",
        "    def MULT_with_const(self, node_x, c):\n",
        "      \"\"\"\n",
        "      Attributes:\n",
        "        - param node_x: a node of x.\n",
        "        - param c: a value of c.\n",
        "      Returns:\n",
        "        - z_B: x_B * c.\n",
        "        - k_Bz: (alpha_x, beta_x * c).\n",
        "        - t_Bz: t_x * c.\n",
        "      \"\"\"\n",
        "      key_x = node_x.key\n",
        "\n",
        "      z_B = (node_x.value * c) % p\n",
        "      k_Bz = (key_x[0] % p, (key_x[1] * c) % p)\n",
        "      t_Bz = (node_x.tag * c) % p\n",
        "      return z_B, k_Bz, t_Bz\n",
        "\n",
        "    def Receive(self, MULTS):\n",
        "      \"\"\"\n",
        "      Attributes:\n",
        "        - param MULTS: an array that holds the indexes of mult gates in a specific layer.\n",
        "      \"\"\"\n",
        "      global d_array, e_array\n",
        "\n",
        "      new_visited = []\n",
        "\n",
        "      for node in self.visited:\n",
        "        node_x_B = node.parent1\n",
        "        if node.constant == False:\n",
        "          node_y_B = node.parent2\n",
        "        else:\n",
        "          c = node.parent2\n",
        "\n",
        "        if node.value is None:\n",
        "          if node.op == \"+\" and node.constant:\n",
        "            node.value, node.key, node.tag = self.ADD_with_const(node_x_B, c)\n",
        "\n",
        "          if node.op == \"+\" and not node.constant:\n",
        "            node.value, node.key, node.tag = self.ADD(node_x_B, node_y_B)\n",
        "\n",
        "          if node.op == \"*\" and node.constant:\n",
        "            node.value, node.key, node.tag = self.MULT_with_const(node_x_B, c)\n",
        "            \n",
        "          if node.op == \"*\" and not node.constant:\n",
        "            number_of_current_MULT = MULTS[0][2]\n",
        "            d_A = MULTS[0][0]\n",
        "            d_B = np.subtract(node_x_B.value, self.u_B[number_of_current_MULT].value) % p\n",
        "            d_array.append(d_A + d_B)\n",
        "\n",
        "            e_A = MULTS[0][1]\n",
        "            e_B = np.subtract(node_y_B.value, self.v_B[number_of_current_MULT].value) % p\n",
        "            e_array.append(e_A + e_B)\n",
        "\n",
        "            del MULTS[0]\n",
        "\n",
        "            node.value, node.key, node.tag = self.MULT(node_x_B, node_y_B, self.u_B[number_of_current_MULT], self.v_B[number_of_current_MULT], self.w_B[number_of_current_MULT], d_array[-1], e_array[-1])\n",
        "\n",
        "          self.occurred_nodes.append(node)\n",
        "          if len(node.sons) != 0:\n",
        "            for son in node.sons:\n",
        "              if son.parent1 in self.occurred_nodes and (son.constant == True or son.parent2 in self.occurred_nodes):\n",
        "                new_visited.append(son)\n",
        "            self.z_B = new_visited.copy()\n",
        "\n",
        "      self.visited = new_visited.copy()\n",
        "      new_visited.clear()\n",
        "\n",
        "    def Send(self):\n",
        "      \"\"\"\n",
        "        Returns:\n",
        "          - z_B: an array of the leaf in Bob's circuit.\n",
        "      \"\"\"\n",
        "      if len(self.visited) > 0:\n",
        "        return None\n",
        "      else:\n",
        "        return self.z_B\n",
        "\n",
        "    def Verify(self, x, k, t):\n",
        "      \"\"\"\n",
        "      Attributes:\n",
        "        - param x: a value of x.\n",
        "        - param k: a tuple of key.\n",
        "        - param t: a tag.\n",
        "      Returns:\n",
        "        - True or False: True if Ver(x,k,t) = ACCEPT and False if Ver(x,k,t) = ABORT.\n",
        "      \"\"\"\n",
        "      if (k[0] * x + k[1]) % p == t:\n",
        "        return True\n",
        "      else:\n",
        "        return False"
      ],
      "metadata": {
        "id": "tV8F6Dw-zvDM"
      },
      "execution_count": 1045,
      "outputs": []
    },
    {
      "cell_type": "markdown",
      "source": [
        "## The Protocol:"
      ],
      "metadata": {
        "id": "Ak0xEbLHh828"
      }
    },
    {
      "cell_type": "markdown",
      "source": [
        "### Generate $\\vec{a}=(a_1,a_2) \\in {\\{0,1,2,3\\}^2}$ and $\\vec{x}=(x_1,x_2) \\in {\\{0,1,2,3\\}^2}$"
      ],
      "metadata": {
        "id": "lVM6bL2GiMZ2"
      }
    },
    {
      "cell_type": "code",
      "source": [
        "a_vec = [np.random.randint(0,4) for i in range(n)]\n",
        "x_vec = [np.random.randint(0,4) for i in range(n)]\n",
        "\n",
        "print(\"a =\", a_vec)\n",
        "print(\"x =\", x_vec)"
      ],
      "metadata": {
        "id": "A-civeKWiKEA",
        "colab": {
          "base_uri": "https://localhost:8080/"
        },
        "outputId": "e09a9b1c-e4a9-478a-8e27-be0e6fd5329a"
      },
      "execution_count": 1046,
      "outputs": [
        {
          "output_type": "stream",
          "name": "stdout",
          "text": [
            "a = [3, 0]\n",
            "x = [2, 1]\n"
          ]
        }
      ]
    },
    {
      "cell_type": "markdown",
      "source": [
        "### Offline Phase:"
      ],
      "metadata": {
        "id": "b2cYbLQzilZd"
      }
    },
    {
      "cell_type": "code",
      "source": [
        "dealer = Dealer()\n",
        "circuit_A, u_A, v_A, w_A, r_A, mult_gates_A = dealer.RandA()\n",
        "circuit_B, u_B, v_B, w_B, r_B, mult_gates_B = dealer.RandB()"
      ],
      "metadata": {
        "id": "Qqg9mDUS0R4m"
      },
      "execution_count": 1047,
      "outputs": []
    },
    {
      "cell_type": "markdown",
      "source": [
        "### Online Phase:"
      ],
      "metadata": {
        "id": "nmpbL1v8lp9z"
      }
    },
    {
      "cell_type": "markdown",
      "source": [
        "Initialization of Alice and Bob:"
      ],
      "metadata": {
        "id": "4EmVQbAXmD1F"
      }
    },
    {
      "cell_type": "code",
      "source": [
        "Alice = Alice(circuit=circuit_A, x=x_vec, u_A=u_A, v_A=v_A, w_A=w_A, r_A=r_A, number_of_mult_gates=mult_gates_A)\n",
        "Bob = Bob(circuit=circuit_B, y=a_vec, u_B=u_B, v_B=v_B, w_B=w_B, r_B=r_B, number_of_mult_gates=mult_gates_B)"
      ],
      "metadata": {
        "id": "QsHslzpwl0Ue"
      },
      "execution_count": 1048,
      "outputs": []
    },
    {
      "cell_type": "markdown",
      "source": [
        "Secret sharing:"
      ],
      "metadata": {
        "id": "SoJiLtSd78k0"
      }
    },
    {
      "cell_type": "code",
      "source": [
        "d = Alice.ReceiveR_BAndSendD(r_B=Bob.SendR_B())\n",
        "Bob.ReceiveD(d=d)\n",
        "\n",
        "d = Bob.ReceiveR_AAndSendD(r_A = Alice.SendR_A())\n",
        "Alice.ReceiveD(d=d)"
      ],
      "metadata": {
        "id": "4sZxvfX9780_"
      },
      "execution_count": 1049,
      "outputs": []
    },
    {
      "cell_type": "code",
      "source": [
        "while Alice.hasOutput() == False:\n",
        "  MULTS = Alice.Send()\n",
        "  Bob.Receive(MULTS=MULTS)\n",
        "  z_B = Bob.Send()\n",
        "  Alice.Receive(z_B=z_B)"
      ],
      "metadata": {
        "id": "qxCXVzgrPqIa"
      },
      "execution_count": 1050,
      "outputs": []
    },
    {
      "cell_type": "markdown",
      "source": [
        "Alice outputs:"
      ],
      "metadata": {
        "id": "UJ26lwCjo701"
      }
    },
    {
      "cell_type": "code",
      "source": [
        "z = Alice.Output()\n",
        "print(\"z =\", z)"
      ],
      "metadata": {
        "colab": {
          "base_uri": "https://localhost:8080/"
        },
        "id": "YgNSuANTo8Fv",
        "outputId": "b23a1032-87de-4184-9c52-7970b0ef64c3"
      },
      "execution_count": 1051,
      "outputs": [
        {
          "output_type": "stream",
          "name": "stdout",
          "text": [
            "z = 1\n"
          ]
        }
      ]
    },
    {
      "cell_type": "markdown",
      "source": [
        "### In short:"
      ],
      "metadata": {
        "id": "MtMDw3kKsgMn"
      }
    },
    {
      "cell_type": "markdown",
      "source": [
        "for $a = (a_{1},a_{2}), x = (x_{1},x_{2})$:\n"
      ],
      "metadata": {
        "id": "mXAzqXiPpe3i"
      }
    },
    {
      "cell_type": "code",
      "source": [
        "print(\"a =\", a_vec)\n",
        "print(\"x =\", x_vec)"
      ],
      "metadata": {
        "colab": {
          "base_uri": "https://localhost:8080/"
        },
        "id": "69fxZBa9sRfM",
        "outputId": "bba297f1-5b8a-4f83-bdbf-379ebe374a97"
      },
      "execution_count": 1052,
      "outputs": [
        {
          "output_type": "stream",
          "name": "stdout",
          "text": [
            "a = [3, 0]\n",
            "x = [2, 1]\n"
          ]
        }
      ]
    },
    {
      "cell_type": "markdown",
      "source": [
        "The output of $f_{a⃗,4}(x_1,x_2)$ is:"
      ],
      "metadata": {
        "id": "GasQqphVsR2O"
      }
    },
    {
      "cell_type": "code",
      "source": [
        "print(z)"
      ],
      "metadata": {
        "colab": {
          "base_uri": "https://localhost:8080/"
        },
        "id": "riZqBd07pcNx",
        "outputId": "5d4afdff-fcbd-4d28-ea63-5ce8851bfc91"
      },
      "execution_count": 1053,
      "outputs": [
        {
          "output_type": "stream",
          "name": "stdout",
          "text": [
            "1\n"
          ]
        }
      ]
    }
  ]
}