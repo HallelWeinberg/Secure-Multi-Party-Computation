{
  "nbformat": 4,
  "nbformat_minor": 0,
  "metadata": {
    "colab": {
      "provenance": []
    },
    "kernelspec": {
      "name": "python3",
      "display_name": "Python 3"
    },
    "language_info": {
      "name": "python"
    }
  },
  "cells": [
    {
      "cell_type": "markdown",
      "source": [
        "# **Yao’s Protocol vs Not Privacy-Preserving Computation**\n",
        "\n",
        "\n"
      ],
      "metadata": {
        "id": "3G656KMYgb5i"
      }
    },
    {
      "cell_type": "code",
      "execution_count": 1,
      "metadata": {
        "id": "1POQomj_xvus"
      },
      "outputs": [],
      "source": [
        "import numpy as np\n",
        "import random\n",
        "import hashlib\n",
        "import matplotlib.pyplot as plt\n",
        "import time"
      ]
    },
    {
      "cell_type": "markdown",
      "source": [
        "Global auxiliary variable:"
      ],
      "metadata": {
        "id": "0tdiZvwXEfzL"
      }
    },
    {
      "cell_type": "code",
      "source": [
        "n = 4"
      ],
      "metadata": {
        "id": "4eGUixLo0RT9"
      },
      "execution_count": 2,
      "outputs": []
    },
    {
      "cell_type": "markdown",
      "source": [
        "## Garbled Gate's Class:"
      ],
      "metadata": {
        "id": "OvOFVzQwdhPt"
      }
    },
    {
      "cell_type": "code",
      "source": [
        "class GarbledGate:\n",
        "    def __init__(self, garbled_gate, idx_input_fst: int, idx_input_snd: int, is_const: bool):\n",
        "      self.garbled_gate = garbled_gate\n",
        "      self.idx1 = idx_input_fst\n",
        "      self.idx2 = idx_input_snd\n",
        "      self.is_const = is_const"
      ],
      "metadata": {
        "id": "F_0tJ5--dhiM"
      },
      "execution_count": 3,
      "outputs": []
    },
    {
      "cell_type": "markdown",
      "source": [
        "## OT - 2:"
      ],
      "metadata": {
        "id": "tEnyJ-5NGVrd"
      }
    },
    {
      "cell_type": "code",
      "source": [
        "class OT:\n",
        "    def __init__(self, p, q, g):\n",
        "      self.p = p  # Prime modulus\n",
        "      self.q = q  # Order of the cyclic group\n",
        "      self.g = g  # Generator\n",
        "\n",
        "      self.pk0 = None\n",
        "      self.pk1 = None\n",
        "\n",
        "    def Gen(self):\n",
        "      sk = random.SystemRandom().randrange(0, self.q)  # Secret key\n",
        "      pk = pow(self.g, sk, self.p)  # Public key\n",
        "      return pk, sk\n",
        "\n",
        "    def Enc(self, m, pk):\n",
        "      r = random.SystemRandom().randrange(0, self.q)  # Random value\n",
        "      c1 = pow(self.g, r, self.p)\n",
        "      c2 = (m * pow(pk, r, self.p)) % self.p\n",
        "      return c1, c2\n",
        "\n",
        "    def Dec(self, c, sk):\n",
        "      c1, c2 = c\n",
        "      m = (c2 * pow(c1, -sk, self.p)) % self.p\n",
        "      return m\n",
        "\n",
        "    def OGen(self, r):\n",
        "      s = random.SystemRandom().randrange(0, self.p)  # Random value\n",
        "      h = pow(s, 2, self.p)\n",
        "      return h"
      ],
      "metadata": {
        "id": "LjW0iUdzGWeS"
      },
      "execution_count": 4,
      "outputs": []
    },
    {
      "cell_type": "markdown",
      "source": [
        "## Alice's Class:"
      ],
      "metadata": {
        "id": "ccz8SXFZhztd"
      }
    },
    {
      "cell_type": "code",
      "source": [
        "class Alice:\n",
        "    \"\"\"\n",
        "    Attributes:\n",
        "      - param x: Alice's input.\n",
        "      - param circuit: an object of circuit that represents a boolean circuit.\n",
        "      - param labels: all labels.\n",
        "      - param const_labels: constants' labels.\n",
        "    \"\"\"\n",
        "\n",
        "    def __init__(self, x):\n",
        "      self.x = x\n",
        "      self.circuit = np.array([[(1,0,0,4), (1,0,0,5), (1,0,1,4), (1,0,1,5), (1,0,2,6), (1,0,2,7), (1,0,3,6), (1,0,3,7)],\n",
        "                             [(0,1,0,0), (1,0,1,2), (0,0,1,2), (0,1,3,0), (0,1,4,0), (1,0,5,6), (0,0,5,6), (0,1,7,0)],\n",
        "                             [(1,0,0,1), (0,0,0,1), (0,1,2,0), (0,1,3,0), (1,0,4,5), (0,0,4,5), (0,1,6,0), (0,1,7,0)],\n",
        "                             [(1,0,0,4), (0,0,0,4), (1,0,1,5), (0,0,1,5), (1,0,2,6), (0,0,2,6), (1,0,3,7), (0,0,3,7)],\n",
        "                             [(0,1,0,0), (0,1,1,0), (0,1,2,0), (0,1,3,0), (0,1,4,0), (1,0,5,6), (0,0,5,6), (0,1,7,0)],\n",
        "                             [(0,1,0,0), (0,1,1,0), (0,1,2,0), (0,1,3,0), (0,0,4,5), (0,1,6,0), (0,1,7,0)],\n",
        "                             [(0,1,0,0), (0,1,1,0), (0,1,2,0), (1,0,3,4), (0,0,3,4), (0,1,5,0), (0,1,6,0)],\n",
        "                             [(0,1,0,0), (0,1,1,0), (0,0,2,3), (0,1,4,0), (0,1,5,0), (0,1,6,0)],\n",
        "                             [(0,1,0,0), (1,0,1,2), (0,0,1,2), (0,1,3,0), (0,1,4,0), (0,1,5,0)],\n",
        "                             [(0,0,0,1), (0,1,2,0), (0,1,3,0), (0,1,4,0), (0,1,5,0)],\n",
        "                             [(1,0,0,1), (0,0,0,1), (0,1,2,0)],\n",
        "                             [(0,0,0,1), (0,1,2,0)],\n",
        "                             [(1,0,0,1), (0,0,0,1)],\n",
        "                             [(0,0,0,1)]], dtype=object)\n",
        "      self.labels = np.empty_like(np.append(self.circuit, [1]))\n",
        "      self.const_labels = []\n",
        "\n",
        "    def GenerateLabels(self):\n",
        "      \"\"\"\n",
        "        Given a circuit, generate the respectively labels to the garbled circuit.\n",
        "      \"\"\"\n",
        "      input_size = 2 * n\n",
        "      self.labels[0] = self.MakeLayerLabel(num_labels=input_size)\n",
        "      for idx, layer in enumerate(self.circuit):\n",
        "        self.labels[idx + 1] = self.MakeLayerLabel(len(layer))\n",
        "      return\n",
        "\n",
        "    def MakeLayerLabel(self, num_labels):\n",
        "      \"\"\"\n",
        "        Generate labels for a specific layer.\n",
        "\n",
        "        Attributes:\n",
        "          - param num_labels: the number of labels in the layer.\n",
        "        Return:\n",
        "          - layer_label: all labels for the specific layer.\n",
        "      \"\"\"\n",
        "      layer_label = np.empty((num_labels, 2), dtype=object)\n",
        "      for i in range(num_labels):\n",
        "        layer_label[i, 0] = np.array2string(np.random.randint(0, 2, size=128), separator='')[1:-1].replace('\\n', '').replace(' ', '')\n",
        "        layer_label[i, 1] = np.array2string(np.random.randint(0, 2, size=128), separator='')[1:-1].replace('\\n', '').replace(' ', '')\n",
        "      return layer_label\n",
        "\n",
        "    def BuildGarbledCircuit(self):\n",
        "      \"\"\"\n",
        "        Given a circuit & labels, build the respectively labels to the garbled circuit.\n",
        "      \"\"\"\n",
        "      self.garbled_circuit = np.empty_like(self.circuit)\n",
        "      for idx_layer, layer in enumerate(self.circuit):\n",
        "        self.garbled_circuit[idx_layer] = np.empty(len(self.circuit[idx_layer]), dtype=object)\n",
        "        for idx_gate, gate in enumerate(layer):\n",
        "          labels_input_fst = self.labels[idx_layer][gate[2]]\n",
        "          if gate[1]:\n",
        "            labels_input_snd = [np.array2string(np.random.randint(0, 2, size=128), separator='')[1:-1].replace('\\n', '').replace(' ', ''), np.array2string(np.random.randint(0, 2, size=128), separator='')[1:-1].replace('\\n', '').replace(' ', '')]\n",
        "            self.const_labels.append(labels_input_snd[gate[3]])\n",
        "          else:\n",
        "            labels_input_snd = self.labels[idx_layer][gate[3]]\n",
        "          labels_output = self.labels[idx_layer + 1][idx_gate]\n",
        "          garbled_gate = self.BuildGarbledGate(gate[0], labels_input_fst, labels_input_snd, labels_output)\n",
        "\n",
        "          # create the node\n",
        "          if gate[1]:\n",
        "            self.garbled_circuit[idx_layer][idx_gate] = GarbledGate(garbled_gate, gate[2], len(self.const_labels) - 1, bool(gate[1]))\n",
        "          else:\n",
        "            self.garbled_circuit[idx_layer][idx_gate] = GarbledGate(garbled_gate, gate[2], gate[3], bool(gate[1]))\n",
        "      return\n",
        "\n",
        "    def BuildGarbledGate(self, operation, labels_input_fst, labels_input_snd, labels_output):\n",
        "      \"\"\"\n",
        "        Given a boolean circuit, build a garbled circuit.\n",
        "\n",
        "        Attributes:\n",
        "          - param operation: 1 if the operation of the gate is \"AND\" and 0 if is \"XOR\".\n",
        "          - param labels_input_fst: 2 input labels.\n",
        "          - param labels_input snd: 2 input labels.\n",
        "          - param labels_output: 2 output labels.\n",
        "        Return:\n",
        "          - garbled_gate: 4 possible output labels.\n",
        "      \"\"\"\n",
        "      garbled_gate = np.empty(4, dtype=object)\n",
        "      if operation: # and\n",
        "        garbled_gate[0] = self.EncryptOutput(labels_input_fst[0], labels_input_snd[0], labels_output[0])\n",
        "        garbled_gate[1] = self.EncryptOutput(labels_input_fst[0], labels_input_snd[1], labels_output[0])\n",
        "        garbled_gate[2] = self.EncryptOutput(labels_input_fst[1], labels_input_snd[0], labels_output[0])\n",
        "        garbled_gate[3] = self.EncryptOutput(labels_input_fst[1], labels_input_snd[1], labels_output[1])\n",
        "      else: # xor\n",
        "        garbled_gate[0] = self.EncryptOutput(labels_input_fst[0], labels_input_snd[0], labels_output[0])\n",
        "        garbled_gate[1] = self.EncryptOutput(labels_input_fst[0], labels_input_snd[1], labels_output[1])\n",
        "        garbled_gate[2] = self.EncryptOutput(labels_input_fst[1], labels_input_snd[0], labels_output[1])\n",
        "        garbled_gate[3] = self.EncryptOutput(labels_input_fst[1], labels_input_snd[1], labels_output[0])\n",
        "      return garbled_gate\n",
        "\n",
        "    def EncryptOutput(self, label_input_fst, label_input_snd, label_output):\n",
        "      \"\"\"\n",
        "        Given 2 input labels, encrypt the result of gate.\n",
        "\n",
        "        Attributes:\n",
        "          - param label_input_fst: the first input label.\n",
        "          - param label_input_snd: the second input label.\n",
        "          - param label_output: the output label.\n",
        "        Return:\n",
        "          - encrypted_output: the encrypted output label.\n",
        "      \"\"\"\n",
        "      binary_string = hashlib.sha256(label_input_fst.encode('utf-8') + label_input_snd.encode('utf-8'))\n",
        "      input_bytes = binary_string.digest()\n",
        "      hash_object = hashlib.sha256(input_bytes)\n",
        "      hash_binary_string = hash_object.digest()\n",
        "      H = ''.join(format(byte, '08b') for byte in hash_binary_string)\n",
        "      M = label_output + '0' * 128\n",
        "      H = np.array([bool(int(bit)) for bit in H])\n",
        "      M = np.array([bool(int(bit)) for bit in M])\n",
        "      x = np.logical_xor(H, M).astype(int)\n",
        "      encrypted_output = ''.join(str(bit) for bit in x)\n",
        "      return encrypted_output\n",
        "\n",
        "    def SendCircuitAndGarbledInputs(self):\n",
        "      \"\"\"\n",
        "        Send the garbled circuit, Alice's garbled labels and constants' labels.\n",
        "\n",
        "        Returns:\n",
        "          - garbled_circuit: the garbled circuit.\n",
        "          - garbled_inputs_Alice: Alice's garbled labels.\n",
        "          - const_labels: the constants' labels.\n",
        "      \"\"\"\n",
        "      garbled_inputs_Alice = []\n",
        "      for i, x_i in enumerate(self.x):\n",
        "        garbled_inputs_Alice.append(self.labels[0][i][x_i])\n",
        "      return self.garbled_circuit, garbled_inputs_Alice, self.const_labels\n",
        "\n",
        "    def Sender(self, OT, i):\n",
        "      \"\"\"\n",
        "        Sender's function.\n",
        "\n",
        "        Attributes:\n",
        "          - param OT:  an object of type 1-out-of-2 Oblivious Transfer.\n",
        "          - param i: the index in Bob's input.\n",
        "        Returns:\n",
        "          - c0: Enc(m0, pk0).\n",
        "          - c1: Enc(m1, pk1).\n",
        "      \"\"\"\n",
        "      m0 = self.labels[0][n + i][0]            # Sender's message 0\n",
        "      m1 = self.labels[0][n + i][1]            # Sender's message 1\n",
        "\n",
        "      binary_number = int(m0, 2)\n",
        "      m0_binary = '0b' + format(binary_number, '0>128b')\n",
        "      m0 = int(m0_binary, 2)\n",
        "\n",
        "      binary_number = int(m1, 2)\n",
        "      m1_binary = '0b' + format(binary_number, '0>128b')\n",
        "      m1 = int(m1_binary, 2)\n",
        "\n",
        "      c0 = OT.Enc(m0, OT.pk0)  # Encrypt message 0 using public key for choice 0\n",
        "      c1 = OT.Enc(m1, OT.pk1)  # Encrypt message 1 using modified public key for choice 1\n",
        "      return c0, c1\n",
        "\n",
        "    def ReceiveOutput(self, output_label):\n",
        "      \"\"\"\n",
        "        Receive the output label.\n",
        "\n",
        "        Attributes:\n",
        "          - param output_label: the output label of the circuit.\n",
        "        Return:\n",
        "          - output: the value of the output.\n",
        "      \"\"\"\n",
        "      output = -1\n",
        "      if self.labels[self.labels.shape[0] - 1][0][0] == output_label:\n",
        "        output = 0\n",
        "      if self.labels[self.labels.shape[0] - 1][0][1] == output_label:\n",
        "        output = 1\n",
        "      return output"
      ],
      "metadata": {
        "id": "8CslaYcVyglm"
      },
      "execution_count": 5,
      "outputs": []
    },
    {
      "cell_type": "markdown",
      "source": [
        "## Bob's Class:"
      ],
      "metadata": {
        "id": "A_PtW0f8h4YO"
      }
    },
    {
      "cell_type": "code",
      "source": [
        "class Bob:\n",
        "    \"\"\"\n",
        "    Attributes:\n",
        "      - param y: Bobs's input.\n",
        "      - param circuit: the garbled circuit.\n",
        "      - param garbled_inputs: Alice and Bob's garbled input labels.\n",
        "      - param const_labels: the constants' labels.\n",
        "      - param sk: the secret key for the OT.\n",
        "    \"\"\"\n",
        "\n",
        "    def __init__(self, y):\n",
        "      self.y = y\n",
        "      self.circuit = None\n",
        "      self.garbled_inputs = []\n",
        "      self.const_labels = None\n",
        "\n",
        "      self.sk = None\n",
        "\n",
        "    def ReceiveCircuitAndGarbledInputs(self, circuit, garbled_inputs_Alice, const_labels):\n",
        "      \"\"\"\n",
        "        Receive the garbled circuit, garbled inputs and the constants' labels.\n",
        "\n",
        "        Attributes:\n",
        "          - param circuit: the garbled circuit.\n",
        "          - param garbled_inputs_Alice: Alice's garbled input labels.\n",
        "          - param const_labels: the constants' labels.\n",
        "      \"\"\"\n",
        "      self.circuit = circuit\n",
        "      for garbled_input in garbled_inputs_Alice:\n",
        "        self.garbled_inputs.append(garbled_input)\n",
        "      self.const_labels = const_labels\n",
        "\n",
        "    def Receiver(self, OT, i):\n",
        "      \"\"\"\n",
        "        Recevier's part 1.\n",
        "\n",
        "        Attributes:\n",
        "          - param OT: an object of type 1-out-of-2 Oblivious Transfer.\n",
        "          - param i: the index in Bob's input.\n",
        "      \"\"\"\n",
        "      OT.pk0, self.sk = OT.Gen()          # Generate public-private key pair for choice 0\n",
        "      OT.pk1 = OT.OGen(random.SystemRandom().randrange(0, OT.p))    # Generate modified public key for choice 1\n",
        "\n",
        "      receiver_choice = self.y[i]\n",
        "      if receiver_choice == 1:\n",
        "        temp = OT.pk1\n",
        "        OT.pk1 = OT.pk0\n",
        "        OT.pk0 = temp\n",
        "\n",
        "    def ReceiverOutput(self, OT, c0, c1, i):\n",
        "      \"\"\"\n",
        "        Recevier's part 2.\n",
        "\n",
        "        Attributes:\n",
        "          - param OT: an object of type 1-out-of-2 Oblivious Transfer.\n",
        "          - param c0: Enc(m0, pk0).\n",
        "          - param c1: Enc(m1, pk1).\n",
        "          - param i: the index in Bob's input.\n",
        "      \"\"\"\n",
        "      receiver_choice = self.y[i]\n",
        "      chosen_ciphertext = c1 if receiver_choice == 1 else c0\n",
        "      garbled_input_Bob = OT.Dec(chosen_ciphertext, self.sk)\n",
        "      garbled_input_Bob = bin(garbled_input_Bob)[2:].zfill(128)\n",
        "      garbled_input_Bob = \"{:0>128}\".format(garbled_input_Bob)\n",
        "      self.garbled_inputs.append(garbled_input_Bob)\n",
        "      return\n",
        "\n",
        "    def ComputeOutput(self):\n",
        "      \"\"\"\n",
        "        Compute the output label of the circuit.\n",
        "      \"\"\"\n",
        "      for idx_layer, layer in enumerate(self.circuit):\n",
        "        current_labels = []\n",
        "        for idx_gate, gate in enumerate(layer):\n",
        "          if gate.is_const:\n",
        "            current_labels.append(self.DecryptOutput(self.garbled_inputs[gate.idx1], self.const_labels[gate.idx2], gate.garbled_gate))\n",
        "          else:\n",
        "            current_labels.append(self.DecryptOutput(self.garbled_inputs[gate.idx1], self.garbled_inputs[gate.idx2], gate.garbled_gate))\n",
        "        self.garbled_inputs = current_labels\n",
        "      return\n",
        "\n",
        "    def DecryptOutput(self, first_label, second_label, garbled_gate):\n",
        "      \"\"\"\n",
        "        Given 2 input labels, decrypt the gate's result.\n",
        "\n",
        "        Attributes:\n",
        "          - param first_label: the first input label.\n",
        "          - param second_label: the second input label.\n",
        "          - param garbled_gate: the four possible output label.\n",
        "        Return:\n",
        "          - decrypted_output: the output label of the gate.\n",
        "      \"\"\"\n",
        "      binary_string = hashlib.sha256(first_label.encode('utf-8') + second_label.encode('utf-8'))\n",
        "      input_bytes = binary_string.digest()\n",
        "      hash_object = hashlib.sha256(input_bytes)\n",
        "      hash_binary_string = hash_object.digest()\n",
        "      H = ''.join(format(byte, '08b') for byte in hash_binary_string)\n",
        "      H = np.array([bool(int(bit)) for bit in H])\n",
        "      for label_output in garbled_gate:\n",
        "        label_output = np.array([bool(int(bit)) for bit in label_output])\n",
        "        decrypt_output = np.logical_xor(H, label_output).astype(int)\n",
        "        decrypt_output = ''.join(str(bit) for bit in decrypt_output)\n",
        "        # print(decrypt_output)\n",
        "        if decrypt_output[128:] == '0' * 128:\n",
        "          return decrypt_output[:128]\n",
        "      return None\n",
        "\n",
        "\n",
        "    def SendOutput(self):\n",
        "      \"\"\"\n",
        "        Send the output label.\n",
        "\n",
        "        Return:\n",
        "          - output: the output label of the circuit.\n",
        "      \"\"\"\n",
        "      output = self.garbled_inputs[0]\n",
        "      return output"
      ],
      "metadata": {
        "id": "tV8F6Dw-zvDM"
      },
      "execution_count": 6,
      "outputs": []
    },
    {
      "cell_type": "code",
      "source": [
        "def plot(pp_time, npp_time):\n",
        "  plt.figure(figsize=(20, 5))\n",
        "  plt.scatter(range(len(pp_time)),pp_time, label='privacy-preserving', s=50, color='#00FF00', alpha=0.5)\n",
        "  plt.scatter(range(len(npp_time)),npp_time, label='not privacy-preserving', s=10, color='#FF3131', alpha=1)\n",
        "  plt.xlabel('input (x_1,x_2,a_1,a_2)')\n",
        "  plt.ylabel('time per execution')\n",
        "  plt.legend()\n",
        "\n",
        "  plt.show()"
      ],
      "metadata": {
        "id": "02HHqNCM3Ugl"
      },
      "execution_count": 7,
      "outputs": []
    },
    {
      "cell_type": "code",
      "source": [
        "a_vec = [[0,0,0,0],[0,0,0,1],[0,0,1,0],[0,1,0,0],[1,0,0,0],[0,0,1,1],[0,1,0,1],[1,0,0,1],[0,1,1,0],[1,0,1,0],[1,1,0,0],[0,1,1,1],[1,0,1,1],[1,1,0,1],[1,1,1,0],[1,1,1,1]]\n",
        "x_vec = [[0,0,0,0],[0,0,0,1],[0,0,1,0],[0,1,0,0],[1,0,0,0],[0,0,1,1],[0,1,0,1],[1,0,0,1],[0,1,1,0],[1,0,1,0],[1,1,0,0],[0,1,1,1],[1,0,1,1],[1,1,0,1],[1,1,1,0],[1,1,1,1]]"
      ],
      "metadata": {
        "id": "4IeXEVOGEm5s"
      },
      "execution_count": 8,
      "outputs": []
    },
    {
      "cell_type": "markdown",
      "source": [
        "## **privacy-preserving computation:**"
      ],
      "metadata": {
        "id": "816qcM0vEw8S"
      }
    },
    {
      "cell_type": "code",
      "source": [
        "pp_z = np.zeros((n**2)*(n**2), dtype=int)\n",
        "pp_time = np.zeros((n**2)*(n**2), dtype=float)\n",
        "idx = 0\n",
        "for i in range(len(x_vec)):\n",
        "  for j in range(len(a_vec)):\n",
        "    pp_time[idx] = time.time()\n",
        "    n = 4\n",
        "    alice = Alice(x=x_vec[i])\n",
        "    bob = Bob(y=a_vec[j])\n",
        "    alice.GenerateLabels()\n",
        "    alice.BuildGarbledCircuit()\n",
        "    garbled_circuit, labels, const_labels = alice.SendCircuitAndGarbledInputs()\n",
        "    bob.ReceiveCircuitAndGarbledInputs(garbled_circuit, labels, const_labels)\n",
        "\n",
        "    q = 2 ** 128        # Order of the cyclic group\n",
        "    p = 2 ** 128 - 1    # Prime modulus\n",
        "    g = 2               # Generator\n",
        "\n",
        "    ot = OT(p, q, g)\n",
        "    for index in range(n):\n",
        "      bob.Receiver(ot, index)\n",
        "      c0, c1 = alice.Sender(ot, index)\n",
        "      bob.ReceiverOutput(ot, c0, c1, index)\n",
        "\n",
        "    bob.ComputeOutput()\n",
        "    pp_z[idx] = alice.ReceiveOutput(bob.SendOutput())\n",
        "    pp_time[idx] = time.time() - pp_time[idx]\n",
        "    idx = idx + 1"
      ],
      "metadata": {
        "id": "np0Xp0o7tuTS"
      },
      "execution_count": 9,
      "outputs": []
    },
    {
      "cell_type": "markdown",
      "source": [
        "## **Not privacy-preserving computation:**"
      ],
      "metadata": {
        "id": "97R5ay66E3Vp"
      }
    },
    {
      "cell_type": "code",
      "source": [
        "npp_z = np.zeros((n**2)*(n**2), dtype=int)\n",
        "npp_time = np.zeros((n**2)*(n**2), dtype=float)\n",
        "idx = 0\n",
        "for i in range(len(x_vec)):\n",
        "  for j in range(len(x_vec)):\n",
        "    npp_time[idx] = time.time()\n",
        "    x_1 = x_vec[i][0] * 2 + x_vec[i][1] * 1\n",
        "    x_2 = x_vec[i][2] * 2 + x_vec[i][3] * 1\n",
        "    a_1 = a_vec[j][0] * 2 + a_vec[j][1] * 1\n",
        "    a_2 = a_vec[j][2] * 2 + a_vec[j][3] * 1\n",
        "    if (a_1*x_1 + a_2*x_2) >= 4:\n",
        "      npp_z[idx] = 1\n",
        "    else:\n",
        "      npp_z[idx] = 0\n",
        "    npp_time[idx] = time.time() - npp_time[idx]\n",
        "    idx = idx + 1"
      ],
      "metadata": {
        "id": "A4EUuAS0E6Jv"
      },
      "execution_count": 10,
      "outputs": []
    },
    {
      "cell_type": "code",
      "source": [
        "plot(pp_time, npp_time)"
      ],
      "metadata": {
        "id": "bBLLTUBTE8BN",
        "colab": {
          "base_uri": "https://localhost:8080/",
          "height": 465
        },
        "outputId": "d508b5b6-a48a-496a-831e-060cf4a45a5a"
      },
      "execution_count": 11,
      "outputs": [
        {
          "output_type": "display_data",
          "data": {
            "text/plain": [
              "<Figure size 2000x500 with 1 Axes>"
            ],
            "image/png": "[encoded data removed]"
          },
          "metadata": {}
        }
      ]
    }
  ]
}