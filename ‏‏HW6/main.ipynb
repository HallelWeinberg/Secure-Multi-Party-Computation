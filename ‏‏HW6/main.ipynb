{
  "cells": [
    {
      "cell_type": "markdown",
      "metadata": {
        "id": "3G656KMYgb5i"
      },
      "source": [
        "# **BeDOZa Protocol With Oblivious Transfer**\n",
        "\n",
        "\n"
      ]
    },
    {
      "cell_type": "code",
      "execution_count": null,
      "metadata": {
        "id": "1POQomj_xvus"
      },
      "outputs": [],
      "source": [
        "import numpy as np"
      ]
    },
    {
      "cell_type": "code",
      "execution_count": null,
      "metadata": {
        "id": "kzxcbqmm-6Fa"
      },
      "outputs": [],
      "source": [
        "p = 107  # Prime modulus\n",
        "q = 53   # Order of the cyclic group\n",
        "g = 2  # Generator"
      ]
    },
    {
      "cell_type": "markdown",
      "metadata": {
        "id": "0tdiZvwXEfzL"
      },
      "source": [
        "Global auxiliary variables:"
      ]
    },
    {
      "cell_type": "code",
      "execution_count": null,
      "metadata": {
        "id": "Rt8eeONaEe2-"
      },
      "outputs": [],
      "source": [
        "number_of_curr_MULT = 0\n",
        "d_array = []\n",
        "e_array = []"
      ]
    },
    {
      "cell_type": "markdown",
      "metadata": {
        "id": "GqguQEhPK6Fb"
      },
      "source": [
        "## The definition of the function:\n",
        "> The inputs of the function are vectors $\\vec{a}$ and $\\vec{x}$.\n",
        "\n",
        "$n$ is the number of elements in the vector $x$ and the number of elements in the vector $a$: $$a = (a_{1},a_{2},...,a_{n}), x = (x_{1},x_{2},...,x_{n})$$"
      ]
    },
    {
      "cell_type": "code",
      "execution_count": null,
      "metadata": {
        "id": "4eGUixLo0RT9"
      },
      "outputs": [],
      "source": [
        "n = 2"
      ]
    },
    {
      "cell_type": "markdown",
      "metadata": {
        "id": "z7OOrMlH5INE"
      },
      "source": [
        "The values of the elements in the vector $a$ are from the range $\\{l_a,...,h_a\\}$ such that: $$(a_1,a_2,...,a_n) \\in {\\{l_a,...,h_a\\}^n}$$"
      ]
    },
    {
      "cell_type": "code",
      "execution_count": null,
      "metadata": {
        "id": "K4zl8ZV35IqW"
      },
      "outputs": [],
      "source": [
        "l_a = 0\n",
        "h_a = 3"
      ]
    },
    {
      "cell_type": "markdown",
      "metadata": {
        "id": "Ev_LkNwnso-j"
      },
      "source": [
        "> **Please choose range such that $h_a \\leq 6$!**"
      ]
    },
    {
      "cell_type": "markdown",
      "metadata": {
        "id": "_yLgyjQS6Q2U"
      },
      "source": [
        "The values of the elements in the vector $x$ are from the range $\\{l_x,...,h_x\\}$ such that: $$(x_1,x_2,...,x_n) \\in {\\{l_x,...,h_x\\}^n}$$"
      ]
    },
    {
      "cell_type": "code",
      "execution_count": null,
      "metadata": {
        "id": "c-EXHnWO6Q2V"
      },
      "outputs": [],
      "source": [
        "l_x = 0\n",
        "h_x = 3"
      ]
    },
    {
      "cell_type": "markdown",
      "metadata": {
        "id": "Y_tywNKns-3s"
      },
      "source": [
        "> **Please choose range such that $h_a \\leq 6$!**"
      ]
    },
    {
      "cell_type": "markdown",
      "metadata": {
        "id": "uVQpMs3u4mSe"
      },
      "source": [
        "\n",
        "\n",
        "---\n",
        "\n",
        "\n",
        "The function $f_{\\vec{a},number}(x)$ is defined by the following template:"
      ]
    },
    {
      "cell_type": "markdown",
      "metadata": {
        "id": "BntSSm--1ZwI"
      },
      "source": [
        "$f_{\\vec{a},number}(x) = 1$ if $statement [inequalities] number$.\n",
        "\n",
        "$f_{\\vec{a},number}(x) = 0$ otherwise.\n",
        "\n",
        "\n",
        "---\n",
        "\n",
        "\n"
      ]
    },
    {
      "cell_type": "markdown",
      "metadata": {
        "id": "ccILGuq_h-NX"
      },
      "source": [
        "$[inequalities]$ can be operator from $\\{<,>,\\leq,\\geq\\}$.\n",
        "\n",
        "Define:\n",
        "> $inequality = 0$ if the operator is $\\leq$.\n",
        "\n",
        "> $inequality = 1$ if the operator is $\\geq$.\n",
        "\n",
        "> $inequality = 2$ if the operator is $<$.\n",
        "\n",
        "> $inequality = 3$ if the operator is $>$.\n",
        "\n",
        "\n",
        "\n"
      ]
    },
    {
      "cell_type": "code",
      "execution_count": null,
      "metadata": {
        "id": "8OwRYvqPhTPR"
      },
      "outputs": [],
      "source": [
        "inequality = 1"
      ]
    },
    {
      "cell_type": "code",
      "execution_count": null,
      "metadata": {
        "id": "8xeoyqEE1Rk-"
      },
      "outputs": [],
      "source": [
        "number = 4"
      ]
    },
    {
      "cell_type": "markdown",
      "metadata": {
        "id": "qR8D7D3nlGdl"
      },
      "source": [
        "\n",
        "\n",
        "\n",
        "---\n",
        "\n",
        "\n",
        "**example:**\n",
        "\n",
        "for $inequality = 1$ and $number = 4$ the function is from the template:\n",
        "\n",
        "$f_{\\vec{a},number}(x) = 1$ if $statement \\geq 4$.\n",
        "\n",
        "$f_{\\vec{a},number}(x) = 0$ otherwise.\n",
        "\n",
        "---\n",
        "\n"
      ]
    },
    {
      "cell_type": "markdown",
      "metadata": {
        "id": "bbIMhPwr4USf"
      },
      "source": [
        "**The $statement$ is defined by a sum of multiples:**\n",
        "\n",
        "We have an array such that: $$concatenated\\_inputs = [x_1,x_2,...,x_n,a_1,a_2,...,a_n]$$\n",
        "\n",
        "Each triplet in the array $list\\_of\\_mults$: $$(constant\\_flag,i,j)$$ represents a product of $x \\cdot y$ or $x \\cdot c$.\n",
        "\n",
        "It is defined as follows:\n",
        "* $constant\\_flag$ is $True$ if we want to calculate the result of $x \\cdot c$ and $False$ if we want to calculate the result of $x \\cdot y$.\n",
        "* $i$ is the index of $x$ in the array $concatenated\\_inputs$.\n",
        "* $j$ is the index of $y$ in the array $concatenated\\_inputs$ if $constant\\_flag = False$ and is equal to $c$ if $constant\\_flag = True$.\n",
        "\n"
      ]
    },
    {
      "cell_type": "code",
      "execution_count": null,
      "metadata": {
        "id": "VjLizDPiKuxS"
      },
      "outputs": [],
      "source": [
        "list_of_mults = [(False, 0, 2), (False, 1, 3)]"
      ]
    },
    {
      "cell_type": "markdown",
      "metadata": {
        "id": "cVEkOQrL-jN5"
      },
      "source": [
        "\n",
        "\n",
        "---\n",
        "\n",
        "\n",
        "**example:**\n",
        "\n",
        "for $concatenated\\_inputs = [x_1,x_2,x_3,a_1,a_2,a_3]$ and $list\\_of\\_mults = [(False, 0, 1), (False, 2, 3), (False, 4, 5), (True, 0, 1)]$, the $statement$ will be:\n",
        "$$x_1 \\cdot x_2 + x_3 \\cdot a_1 + a_2 \\cdot a_3 + x_1 \\cdot 1$$\n",
        "\n",
        "\n",
        "---\n",
        "\n"
      ]
    },
    {
      "cell_type": "markdown",
      "metadata": {
        "id": "1JGXLi9_h294"
      },
      "source": [
        "## OT's Class:"
      ]
    },
    {
      "cell_type": "code",
      "execution_count": null,
      "metadata": {
        "id": "Ah8iWp5D7L3n"
      },
      "outputs": [],
      "source": [
        "class OT:\n",
        "  def __init__(self, p, q, g):\n",
        "    self.p = p  # Prime modulus\n",
        "    self.q = q  # Order of the cyclic group\n",
        "    self.g = g  # Generator\n",
        "\n",
        "    self.curr_r = np.random.randint(0, p - 1)\n",
        "    self.output = 0\n",
        "    self.r = 0\n",
        "    self.sum_r = 0\n",
        "\n",
        "    self.pk0 = -1\n",
        "    self.pk1 = -1\n",
        "\n",
        "  def Gen(self):\n",
        "    # sk = random.randint(0, self.q - 1)  # Secret key\n",
        "    sk = np.random.randint(0, self.q)  # Secret key\n",
        "    pk = pow(self.g, sk, self.p)  # Public key\n",
        "    return pk, sk\n",
        "\n",
        "  def Enc(self, m, pk):\n",
        "    r = np.random.randint(0, self.q)  # Random value\n",
        "    c1 = pow(self.g, r, self.p)\n",
        "    c2 = (m * pow(pk, r, self.p)) % self.p\n",
        "    return c1, c2\n",
        "\n",
        "  def Dec(self, c, sk):\n",
        "    c1, c2 = c\n",
        "    m = (c2 * pow(c1, -sk, self.p)) % self.p\n",
        "    return m\n",
        "\n",
        "  def OGen(self, r):\n",
        "    s = np.random.randint(0, self.p)  # Random value\n",
        "    h = pow(s, 2, self.p)\n",
        "    return h"
      ]
    },
    {
      "cell_type": "markdown",
      "metadata": {
        "id": "hNwLiuMToZrs"
      },
      "source": [
        "## MAC's Class:"
      ]
    },
    {
      "cell_type": "code",
      "execution_count": null,
      "metadata": {
        "id": "mIVc72sclXwV"
      },
      "outputs": [],
      "source": [
        "class MAC:\n",
        "  def __init__(self, x, key, tag):\n",
        "    self.value = x\n",
        "    self.key = key\n",
        "    self.tag = tag"
      ]
    },
    {
      "cell_type": "markdown",
      "metadata": {
        "id": "aB6LcC8Yo7BL"
      },
      "source": [
        "## Node of Circuit's Class\n",
        "The Node class represents a node in a circuit, which can have two input parents and an operator (op) that defines the operation to be performed on the parents' values. A Circuit is then made up of a collection of Node instances that are interconnected to form a larger computational graph."
      ]
    },
    {
      "cell_type": "code",
      "execution_count": null,
      "metadata": {
        "id": "Nu3Wjk2HLrAm"
      },
      "outputs": [],
      "source": [
        "class Node:\n",
        "  def __init__(self, op, constant, parent1, parent2):\n",
        "    self.value = None\n",
        "    self.constant = constant        # contains \"False\" if the operator is applied to x,y and \"True\" if the operator is applied to x,c\n",
        "    self.op = op                    # contains \"+\" or \"*\"\n",
        "    self.parent1 = parent1\n",
        "    self.parent2 = parent2\n",
        "    self.sons = []\n",
        "    self.output = False             # contains \"True\" if this is leaf in the circuit and \"False\" otherwise\n",
        "    self.tag = -1\n",
        "    self.key = -1"
      ]
    },
    {
      "cell_type": "markdown",
      "metadata": {
        "id": "ynWaTYHELre1"
      },
      "source": [
        "## Circuit's Class:"
      ]
    },
    {
      "cell_type": "code",
      "execution_count": null,
      "metadata": {
        "id": "mqIpd12o9Tqc"
      },
      "outputs": [],
      "source": [
        "class Circuit:\n",
        "  def __init__(self, n, input, MULTS, number, inequality, p):\n",
        "    self.number_of_mult_gates = 0\n",
        "    self.n = n\n",
        "    self.input = input\n",
        "    self.MULTS = MULTS\n",
        "    self.p = p\n",
        "    self.number = number\n",
        "    self.inequality = inequality\n",
        "    self.results_of_greater_than = []\n",
        "\n",
        "  def Mul(self, parent1, parent2, constant):\n",
        "    self.number_of_mult_gates += 1\n",
        "    node_mul = Node(\"*\", constant, parent1, parent2)\n",
        "    parent1.sons.append(node_mul)\n",
        "    if constant == False:\n",
        "      parent2.sons.append(node_mul)\n",
        "    return node_mul\n",
        "\n",
        "\n",
        "  def Add(self, parent1, parent2, constant):\n",
        "    node_add = Node(\"+\", constant, parent1, parent2)\n",
        "    parent1.sons.append(node_add)\n",
        "    if constant == False:\n",
        "      parent2.sons.append(node_add)\n",
        "    return node_add\n",
        "\n",
        "  def while_of_visited(self, visited, op, const_flag):\n",
        "    new_visited = []\n",
        "    while len(visited) > 1:\n",
        "      for i in range(0, len(visited), 2):\n",
        "        if (i + 1) >= len(visited):\n",
        "          new_visited.append(visited[i])\n",
        "        else:\n",
        "          new_visited.append(op(visited[i], visited[i + 1], const_flag))\n",
        "      visited = new_visited.copy()\n",
        "      new_visited = []\n",
        "    return visited[0]\n",
        "\n",
        "  def GreaterThan(self, parent):\n",
        "    results_of_power = []\n",
        "\n",
        "    for i in range(self.number):\n",
        "      node = self.Add(parent1=parent, parent2=np.negative(i), constant=True)\n",
        "      results_of_power.append(node)\n",
        "      for j in range(self.p - 2):\n",
        "        node_son = self.Mul(parent1=results_of_power[i], parent2=node, constant=False)\n",
        "        results_of_power[i] = node_son\n",
        "\n",
        "    if self.inequality == 3 or self.inequality == 0:                                        # the operator is <= or >\n",
        "      i = self.number\n",
        "      node = self.Add(parent1=parent, parent2=np.negative(i), constant=True)\n",
        "      results_of_power.append(node)\n",
        "      for j in range(self.p - 2):\n",
        "        node_son = self.Mul(parent1=results_of_power[i], parent2=node, constant=False)\n",
        "        results_of_power[i] = node_son\n",
        "\n",
        "    result = self.while_of_visited(results_of_power, self.Mul, False)\n",
        "    return result\n",
        "\n",
        "  def Not(self, parent):\n",
        "    node = self.Add(parent, -1, True)\n",
        "    node_not = self.Mul(node, -1, True)\n",
        "    return node_not\n",
        "\n",
        "  def sum(self, parent1, parent2, constant):\n",
        "    sum = self.Add(parent1, parent2, False)\n",
        "    self.results_of_greater_than.append(self.GreaterThan(sum))\n",
        "    return sum\n",
        "\n",
        "  def GenerateCircuit(self):\n",
        "    self.number_of_mult_gates = 0\n",
        "    nodes = np.zeros((2 * self.n), dtype=object)\n",
        "    visited = []\n",
        "    new_visited = []\n",
        "    results_of_mul = []\n",
        "    results_of_greater_than = []\n",
        "    results_of_not = []\n",
        "    for i in range(len(self.input)):\n",
        "        nodes[i] = Node(None, False, None, None)\n",
        "        nodes[i].value = self.input[i]\n",
        "    for mult in self.MULTS:\n",
        "        constant = mult[0]\n",
        "        parent1 = nodes[mult[1]]\n",
        "        if constant == False:\n",
        "            parent2 = nodes[mult[2]]\n",
        "        else:\n",
        "            parent2 = mult[2]\n",
        "        mul = self.Mul(parent1, parent2, constant)\n",
        "        results_of_mul.append(mul)\n",
        "    for mul in results_of_mul:\n",
        "        results_of_greater_than.append(self.GreaterThan(mul))\n",
        "\n",
        "    self.results_of_greater_than = []\n",
        "    result = self.while_of_visited(results_of_mul, self.sum, False)\n",
        "    results_of_greater_than = self.results_of_greater_than\n",
        "    results_of_greater_than.append(self.GreaterThan(result))\n",
        "\n",
        "    for node in results_of_greater_than:\n",
        "      results_of_not.append(self.Not(node))\n",
        "\n",
        "    result = self.while_of_visited(results_of_not, self.Mul, False)\n",
        "    if self.inequality == 1 or self.inequality == 3:                            # the operator is >= or >\n",
        "      result = self.Not(result)\n",
        "    result.output = True\n",
        "    return nodes, self.number_of_mult_gates"
      ]
    },
    {
      "cell_type": "markdown",
      "metadata": {
        "id": "ccz8SXFZhztd"
      },
      "source": [
        "## Alice's Class:"
      ]
    },
    {
      "cell_type": "code",
      "execution_count": null,
      "metadata": {
        "id": "8CslaYcVyglm"
      },
      "outputs": [],
      "source": [
        "class Alice:\n",
        "    \"\"\"\n",
        "    Attributes:\n",
        "      - param circuit: an object of Circuit that represents an arithmetic circuit.\n",
        "      - param number_of_mult_gates: number of mult gates in the circuit\n",
        "      - param x: Alice's input.\n",
        "      - param alphaA: a random value from {0,p-1} that represents the alpha of Alice's keys.\n",
        "      - param keys_array: A temporary list that contains all the keys of a certain variable.\n",
        "      - param tags_array: A temporary list that contains all the tags of a certain variable.\n",
        "      - param input: A temporary parameter that saves the Receiver's input, 0 or 1 (for OT-2).\n",
        "      - param sk: A temporary parameter that saves the Receiver's secret key (for OT).\n",
        "      - param u_A: an array of random values from {0,p-1}.\n",
        "      - param v_A: an array of random values from {0,p-1}.\n",
        "      - param w_A: an array of random values from {0,p-1}.\n",
        "      - param r_A: an array of random values from {0,p-1}.\n",
        "      - param mults: a temporary array that holds the indexes of mult gates in a specific layer.\n",
        "      - param z_A: an array that holds the leaf node in Alice's circuit.\n",
        "      - param z_B: an array that Bob sends to Alice and holds the leaf node in Bob's circuit.\n",
        "      - param visited: a list that contains all the nodes in the next layer.\n",
        "      - param occurred_nodes: a list that contains all the nodes we have already calculated their value.\n",
        "    \"\"\"\n",
        "\n",
        "    def __init__(self, circuit, x):\n",
        "      self.x = x\n",
        "      self.circuit, self.number_of_mult_gates = circuit.GenerateCircuit()\n",
        "\n",
        "      self.r_A = [np.random.randint(0, p) for _ in range(2 * n)]\n",
        "      self.alphaA = np.random.randint(0, p)\n",
        "      self.keys_array = []\n",
        "      self.tags_array = []\n",
        "      self.input = -1\n",
        "\n",
        "      self.sk = -1\n",
        "\n",
        "      self.u_A = [np.random.randint(0, p) for _ in range(self.number_of_mult_gates)]\n",
        "      self.v_A = [np.random.randint(0, p) for _ in range(self.number_of_mult_gates)]\n",
        "      self.w_A = []\n",
        "\n",
        "      self.mults = []\n",
        "      self.visited = []\n",
        "      self.occurred_nodes = []\n",
        "\n",
        "      self.z_A = None\n",
        "      self.z_B = None\n",
        "\n",
        "    def GenerateKeysAndTagsArray(self, len):\n",
        "      \"\"\"\n",
        "      Generate the key list using Alice's alpha and empty the tag list.\n",
        "      Attributes:\n",
        "        - param len: the required number of keys.\n",
        "      \"\"\"\n",
        "      self.keys_array = [(self.alphaA, np.random.randint(0, p)) for _ in range(len)]\n",
        "      self.tags_array = []\n",
        "      return\n",
        "\n",
        "    def CreateMACs(self, inputA, keys_array, tags_array):\n",
        "      \"\"\"\n",
        "      Combine 3 lists of values, keys and tags into one list of MACs.\n",
        "      Attributes:\n",
        "        - param inputA: the required number of keys.\n",
        "        - param keys_array: a key list.\n",
        "        - param tags_array: a tag list.\n",
        "      Returns:\n",
        "        - macs_arrayA: the MACs list.\n",
        "      \"\"\"\n",
        "      macs_arrayA = np.zeros(len(inputA), dtype=object)\n",
        "      for i in range(len(inputA)):\n",
        "        macs_arrayA[i] = MAC(inputA[i], keys_array[i], tags_array[i])\n",
        "      return macs_arrayA\n",
        "\n",
        "    \n",
        "    # Functions for generating tags:\n",
        "\n",
        "    def ReceiverTags(self, i, receiver_choice, ot):\n",
        "      \"\"\"\n",
        "      Receiver's part 1.\n",
        "      Attributes:\n",
        "        - param i: an index in {0,p-1} for OT-n when n = p.\n",
        "        - param receiver_choice: the receiver's choice bit.\n",
        "        - param ot: an object of type 1-out-of-n Oblivious Transfer where n = p.\n",
        "      \"\"\"\n",
        "      ot.pk0, self.sk = ot.Gen()  # Generate public-private key pair for choice 0\n",
        "      ot.pk1 = ot.OGen(np.random.randint(0, p))  # Generate modified public key for choice 1\n",
        "      self.input = 1 if i == receiver_choice else 0\n",
        "      return\n",
        "\n",
        "    def ReceiverOutputTags(self, c0, c1, ot):\n",
        "      \"\"\"\n",
        "      Receiver's part 2.\n",
        "      Attributes:\n",
        "        - param c0: Enc(m0, pk0).\n",
        "        - param c1: Enc(m1, pk1).\n",
        "        - param ot: an object of type 1-out-of-n Oblivious Transfer where n = p.\n",
        "      \"\"\"\n",
        "      chosen_ciphertext = c1 if self.input == 0 else c0\n",
        "      curr_output = ot.Dec(chosen_ciphertext, self.sk)\n",
        "      if self.input != 1:\n",
        "        ot.sum_r = (ot.sum_r + curr_output) % p\n",
        "        ot.curr_r = curr_output\n",
        "      else:\n",
        "        self.tags_array.append((curr_output - ot.sum_r) % p)\n",
        "\n",
        "    def SenderTags(self, i, index, ot):\n",
        "      \"\"\"\n",
        "      Sender's function.\n",
        "      Attributes:\n",
        "        - param i: an index in {0,p-1} for OT-n when n = p.\n",
        "        - param index: an index in value list. \n",
        "        - param ot: an object of type 1-out-of-n Oblivious Transfer where n = p.\n",
        "      Returns:\n",
        "        - c0: Enc(m0, pk0).\n",
        "        - c1: Enc(m1, pk1).\n",
        "      \"\"\"\n",
        "      if i != 0:\n",
        "        ot.r = (ot.r + ot.curr_r) % p\n",
        "      m_i = self.keys_array[index][0] * i + self.keys_array[index][1]\n",
        "      m0 = (m_i + ot.r) % p\n",
        "      m1 = ot.curr_r\n",
        "\n",
        "      c0 = ot.Enc(m0, ot.pk0)\n",
        "      c1 = ot.Enc(m1, ot.pk1)\n",
        "      return c0, c1\n",
        "\n",
        "    # Functions for generating w_A:\n",
        "\n",
        "    def ReceiverW_A(self, i, index_in_mults, ot):\n",
        "      \"\"\"\n",
        "      Receiver's part 1.\n",
        "      Attributes:\n",
        "        - param i: an index in {0,p^2-1} for OT-n when n = p^2.\n",
        "        - param index_in_mults: an index in u, v and w lists. \n",
        "        - param ot: an object of type 1-out-of-n Oblivious Transfer where n = p^2.\n",
        "      \"\"\"\n",
        "      ot.pk0, self.sk = ot.Gen()  # Generate public-private key pair for choice 0\n",
        "      ot.pk1 = ot.OGen(np.random.randint(0, p))  # Generate modified public key for choice 1\n",
        "      receiver_choice = p * self.u_A[index_in_mults] + self.v_A[index_in_mults] # Receiver's choice bit\n",
        "      self.input = 1 if i == receiver_choice else 0\n",
        "      return\n",
        "\n",
        "    def ReceiverOutputW_A(self, c0, c1, ot):\n",
        "      \"\"\"\n",
        "      Receiver's part 2.\n",
        "      Attributes:\n",
        "        - param c0: Enc(m0, pk0).\n",
        "        - param c1: Enc(m1, pk1).\n",
        "        - param ot: an object of type 1-out-of-n Oblivious Transfer where n = p^2.\n",
        "      \"\"\"\n",
        "      chosen_ciphertext = c1 if self.input == 0 else c0\n",
        "      curr_output = ot.Dec(chosen_ciphertext, self.sk)\n",
        "      if self.input != 1:\n",
        "        ot.sum_r = (ot.sum_r + curr_output) % p\n",
        "        ot.curr_r = curr_output\n",
        "      else:\n",
        "        self.w_A.append((curr_output - ot.sum_r) % p)\n",
        "    \n",
        "\n",
        "    def OpenTo(self, node_x_A, node_x_B):\n",
        "      \"\"\"\n",
        "      Attributes:\n",
        "        - param node_x_A: a node of x_A.\n",
        "        - param node_x_B: a node of x_B.\n",
        "      Returns:\n",
        "        - x: returs OpenTo(x_A, x_B) if Verify(x_B, k_A, t_B) = ACCEPT and False otherwise.\n",
        "      \"\"\"\n",
        "      if type(node_x_A) is np.ndarray and type(node_x_B) is np.ndarray:\n",
        "        x = np.zeros((len(node_x_A)), dtype=int)\n",
        "        for i in range(len(node_x_A)):\n",
        "          x[i] = np.add(node_x_A[i].value, node_x_B[i].value) % p\n",
        "          if not self.Verify(node_x_B[i].value, node_x_A[i].key, node_x_B[i].tag):\n",
        "            return False\n",
        "      else:\n",
        "        x = np.add(node_x_A.value, node_x_B.value) % p\n",
        "        if not self.Verify(node_x_B.value, node_x_A.key, node_x_B.tag):\n",
        "          return False\n",
        "      return x\n",
        "\n",
        "    def ReceiveR_BAndSendD(self, r_B):\n",
        "      \"\"\"\n",
        "      Attributes:\n",
        "        - param r_B: an array of MACs from {0,p-1}.\n",
        "      Returns:\n",
        "        - d: an array such that d[i] = x[i] - r[i].\n",
        "      \"\"\"\n",
        "      r = self.OpenTo(self.r_A[:n], r_B)\n",
        "\n",
        "      d = np.zeros((n), dtype=int)\n",
        "      for i in range(0, n):\n",
        "        d[i] = self.x[i] - r[i]\n",
        "        self.circuit[i].value, self.circuit[i].key, self.circuit[i].tag = self.ADD_with_const(self.r_A[i], d[i])\n",
        "      return d\n",
        "\n",
        "    def SendR_A(self):\n",
        "      \"\"\"\n",
        "      Returns:\n",
        "        - r_A: an array of MACs from {0,p-1}.\n",
        "      \"\"\"\n",
        "      return self.r_A[n:]\n",
        "\n",
        "    def ReceiveD(self, d):\n",
        "      \"\"\"\n",
        "      Attributes:\n",
        "        - param d: such that d[i] = y[i] - r[i].\n",
        "      \"\"\"\n",
        "      for i in range(n, 2*n):\n",
        "        self.circuit[i].value, self.circuit[i].key, self.circuit[i].tag = self.ADD_with_const(self.r_A[i], d[i - n])\n",
        "\n",
        "      for i in range(len(self.circuit)):\n",
        "        for son in self.circuit[i].sons:\n",
        "          self.visited.append(son)\n",
        "        self.occurred_nodes.append(self.circuit[i])\n",
        "      return\n",
        "\n",
        "    def ADD(self, node_x, node_y):\n",
        "      \"\"\"\n",
        "      Attributes:\n",
        "        - param node_x: a node of x.\n",
        "        - param node_y: a node of y.\n",
        "      Returns:\n",
        "        - z_A: x_A + y_A.\n",
        "        - k_Az: (alpha_x, beta_x + beta_y).\n",
        "        - t_Az: t_x + t_y.\n",
        "      \"\"\"\n",
        "      key_x = node_x.key\n",
        "      key_y = node_y.key\n",
        "\n",
        "      z_A = (node_x.value + node_y.value) % p\n",
        "      k_Az = (key_x[0] % p, (key_x[1] + key_y[1]) % p)\n",
        "      t_Az = (node_x.tag + node_y.tag) % p\n",
        "      return z_A, k_Az, t_Az\n",
        "\n",
        "    def ADD_with_const(self, node_x, c):\n",
        "      \"\"\"\n",
        "      Attributes:\n",
        "        - param node_x: a node of x.\n",
        "        - param c: a value of c.\n",
        "      Returns:\n",
        "        - z_A: x_A + c.\n",
        "        - k_Az: (alpha_x, beta_x).\n",
        "        - t_Az: t_x.\n",
        "      \"\"\"\n",
        "      key_x = node_x.key\n",
        "\n",
        "      z_A = (node_x.value + c) % p\n",
        "      k_Az = (key_x[0] % p, key_x[1] % p)\n",
        "      t_Az = node_x.tag % p\n",
        "      return z_A, k_Az, t_Az\n",
        "\n",
        "    def MULT(self, node_x, node_y, u_A, v_A, w_A, d, e):\n",
        "      \"\"\"\n",
        "      Attributes:\n",
        "        - param node_x: a node of x.\n",
        "        - param node_y: a node of y.\n",
        "        - u_A: a MAC.\n",
        "        - v_A: a MAC.\n",
        "        - w_A: a MAC.\n",
        "        - d: OpenTo(d_A, d_B).\n",
        "        - e: OpenTo(e_A, e_B).\n",
        "      Returns:\n",
        "        - z_A: x_A * y_A.\n",
        "        - k_Az: (alpha_x, beta_new).\n",
        "        - t_Az: t_new.\n",
        "      \"\"\"\n",
        "      key_x = node_x.key\n",
        "      key_y = node_y.key\n",
        "\n",
        "      z_mul1, k_mul1, t_mul1 = self.MULT_with_const(u_A, e)\n",
        "      z_mul2, k_mul2, t_mul2 = self.MULT_with_const(v_A, d)\n",
        "\n",
        "      mac1 = MAC(z_mul1, k_mul1, t_mul1)\n",
        "      mac2 = MAC(z_mul2, k_mul2, t_mul2)\n",
        "\n",
        "      z_add1, k_add1, t_add1 = self.ADD(mac1, mac2)\n",
        "      mac3 = MAC(z_add1, k_add1, t_add1)\n",
        "\n",
        "      z_add2, k_add2, t_add2 = self.ADD(w_A, mac3)\n",
        "      mac4 = MAC(z_add2, k_add2, t_add2)\n",
        "\n",
        "      z_A, k_Az, t_Az = self.ADD_with_const(mac4, e*d)\n",
        "      return z_A, k_Az, t_Az\n",
        "\n",
        "    def MULT_with_const(self, node_x, c):\n",
        "      \"\"\"\n",
        "      Attributes:\n",
        "        - param node_x: a node of x.\n",
        "        - param c: a value of c.\n",
        "      Returns:\n",
        "        - z_A: x_A * c.\n",
        "        - k_Az: (alpha_x, beta_x * c).\n",
        "        - t_Az: t_x * c.\n",
        "      \"\"\"\n",
        "      key_x = node_x.key\n",
        "\n",
        "      z_A = (node_x.value * c) % p\n",
        "      k_Az = (key_x[0] % p, (key_x[1] * c) % p)\n",
        "      t_Az = (node_x.tag * c) % p\n",
        "      return z_A, k_Az, t_Az\n",
        "\n",
        "    def Receive(self, z_B):\n",
        "        \"\"\"\n",
        "        Attributes:\n",
        "          param z_B: an array of the leaf in Bob's circuit.\n",
        "        \"\"\"\n",
        "        global d_array, e_array\n",
        "\n",
        "        self.z_B = z_B\n",
        "\n",
        "        for mult_node in self.mults:\n",
        "            node_x_A = mult_node.parent1\n",
        "            node_y_A = mult_node.parent2\n",
        "            number_of_current_MULT = mult_node.value\n",
        "            mult_node.value, mult_node.key, mult_node.tag = self.MULT(node_x_A, node_y_A, self.u_A[number_of_current_MULT], self.v_A[number_of_current_MULT], self.w_A[number_of_current_MULT], d_array[0], e_array[0])\n",
        "            del d_array[0]\n",
        "            del e_array[0]\n",
        "        d_array = []\n",
        "        e_array = []\n",
        "        self.mults.clear()\n",
        "\n",
        "    def Send(self):\n",
        "      \"\"\"\n",
        "      Returns:\n",
        "        - MULTS: an array that holds the indexes of mult gates in a specific layer.\n",
        "      \"\"\"\n",
        "      global number_of_curr_MULT\n",
        "\n",
        "      MULTS = []\n",
        "\n",
        "      new_visited = []\n",
        "      if len(self.visited) == 1:\n",
        "        self.z_A = self.visited[0]\n",
        "\n",
        "      for node in self.visited:\n",
        "        node_x_A = node.parent1\n",
        "        if node.constant == False:\n",
        "          node_y_A = node.parent2\n",
        "        else:\n",
        "          c = node.parent2\n",
        "\n",
        "        if node.value is None:\n",
        "          if node.op == \"+\" and node.constant:\n",
        "            node.value, node.key, node.tag = self.ADD_with_const(node_x_A, c)\n",
        "\n",
        "          if node.op == \"+\" and not node.constant:\n",
        "            node.value, node.key, node.tag = self.ADD(node_x_A, node_y_A)\n",
        "\n",
        "          if node.op == \"*\" and node.constant:\n",
        "            node.value, node.key, node.tag = self.MULT_with_const(node_x_A, c)\n",
        "\n",
        "          if node.op == \"*\" and not node.constant:\n",
        "            self.mults.append(node)\n",
        "            d_A = np.subtract(node_x_A.value, self.u_A[number_of_curr_MULT].value) % p\n",
        "            e_A = np.subtract(node_y_A.value, self.v_A[number_of_curr_MULT].value) % p\n",
        "            node.value = number_of_curr_MULT\n",
        "            MULTS.append([d_A, e_A, number_of_curr_MULT])\n",
        "            number_of_curr_MULT += 1\n",
        "              \n",
        "          self.occurred_nodes.append(node)\n",
        "          if len(node.sons) != 0:\n",
        "            for son in node.sons:\n",
        "              if son.parent1 in self.occurred_nodes and (son.constant or son.parent2 in self.occurred_nodes):\n",
        "                new_visited.append(son)\n",
        "\n",
        "      self.visited = new_visited.copy()\n",
        "      new_visited.clear()\n",
        "      return MULTS\n",
        "\n",
        "    def hasOutput(self):\n",
        "      \"\"\"\n",
        "      Returns:\n",
        "        - True/False: a Boolean value indicating whether Alice has input.\n",
        "      \"\"\"\n",
        "      if self.z_B is not None:\n",
        "        return True\n",
        "      return False\n",
        "\n",
        "    def Output(self):\n",
        "      \"\"\"\n",
        "      Returns:\n",
        "        - z: Alice's output.\n",
        "      \"\"\"\n",
        "      z = self.OpenTo(self.z_A, self.z_B[0])\n",
        "      return z\n",
        "\n",
        "    def Verify(self, x, k, t):\n",
        "      \"\"\"\n",
        "      Attributes:\n",
        "        - param x: a value of x.\n",
        "        - param k: a tuple of key.\n",
        "        - param t: a tag.\n",
        "      Returns:\n",
        "        - True or False: True if Ver(x,k,t) = ACCEPT and False if Ver(x,k,t) = ABORT.\n",
        "      \"\"\"\n",
        "      if (k[0] * x + k[1]) % p == t:\n",
        "        return True\n",
        "      else:\n",
        "        return False"
      ]
    },
    {
      "cell_type": "markdown",
      "metadata": {
        "id": "A_PtW0f8h4YO"
      },
      "source": [
        "## Bob's Class:"
      ]
    },
    {
      "cell_type": "code",
      "execution_count": null,
      "metadata": {
        "id": "tV8F6Dw-zvDM"
      },
      "outputs": [],
      "source": [
        "class Bob:\n",
        "    \"\"\"\n",
        "    Attributes:\n",
        "      - param circuit: an object of Circuit that represents an arithmetic circuit.\n",
        "      - param number_of_mult_gates: number of mult gates in the circuit\n",
        "      - param y: Bobs's input.\n",
        "      - param alphaB: a random value from {0,p-1} that represents the alpha of Bob's keys.\n",
        "      - param keys_array: A temporary list that contains all the keys of a certain variable.\n",
        "      - param tags_array: A temporary list that contains all the tags of a certain variable.\n",
        "      - param input: A temporary parameter that saves the Receiver's input, 0 or 1 (for OT-2).\n",
        "      - param sk: A temporary parameter that saves the Receiver's secret key (for OT).\n",
        "      - param u_B: an array of random values from {0,p-1}.\n",
        "      - param v_B: an array of random values from {0,p-1}.\n",
        "      - param w_B: an array of random values from {0,p-1}.\n",
        "      - param r_B: an array of random values from {0,p-1}.\n",
        "      - param z_B: an array that Bob sends to Alice and holds the leaf node in Bob's circuit.\n",
        "      - param visited: a list that contains all the nodes in the next layer.\n",
        "      - param occurred_nodes: a list that contains all the nodes we have already calculated their value.\n",
        "    \"\"\"\n",
        "\n",
        "    def __init__(self, circuit, y):\n",
        "      self.y = y\n",
        "      self.circuit, self.number_of_mult_gates = circuit.GenerateCircuit()\n",
        "\n",
        "      self.r_B = [np.random.randint(0, p) for _ in range(2 * n)]\n",
        "      self.alphaB = np.random.randint(0, p)\n",
        "      self.keys_array = []\n",
        "      self.tags_array = []\n",
        "      self.input = -1\n",
        "\n",
        "      self.sk = -1\n",
        "\n",
        "      self.u_B = [np.random.randint(0, p) for _ in range(self.number_of_mult_gates)]\n",
        "      self.v_B = [np.random.randint(0, p) for _ in range(self.number_of_mult_gates)]\n",
        "      self.w_B = [np.random.randint(0, p) for _ in range(self.number_of_mult_gates)]\n",
        "\n",
        "      self.visited = []\n",
        "      self.occurred_nodes = []\n",
        "\n",
        "      self.z_B = None\n",
        "\n",
        "    def GenerateKeysAndTagsArray(self, len):\n",
        "      \"\"\"\n",
        "      Generate the key list using Bob's alpha and empty the tag list.\n",
        "      Attributes:\n",
        "        - param len: the required number of keys.\n",
        "      \"\"\"\n",
        "      self.keys_array = [(self.alphaB, np.random.randint(0, p)) for _ in range(len)]\n",
        "      self.tags_array = []\n",
        "      return\n",
        "\n",
        "    def CreateMACs(self, inputB, keys_array, tags_array):\n",
        "      \"\"\"\n",
        "      Combine 3 lists of values, keys and tags into one list of MACs.\n",
        "      Attributes:\n",
        "        - param inputB: the required number of keys.\n",
        "        - param keys_array: a key list.\n",
        "        - param tags_array: a tag list.\n",
        "      Returns:\n",
        "        - macs_arrayB: the MACs list.\n",
        "      \"\"\"\n",
        "      macs_arrayB = np.zeros(len(inputB), dtype=object)\n",
        "      for i in range(len(inputB)):\n",
        "        macs_arrayB[i] = MAC(inputB[i], keys_array[i], tags_array[i])\n",
        "      return macs_arrayB\n",
        "    \n",
        "\n",
        "    # Functions for generating tags:\n",
        "    \n",
        "    def SenderTags(self, i, index, ot):\n",
        "      \"\"\"\n",
        "      Sender's function.\n",
        "      Attributes:\n",
        "        - param i: an index in {0,p-1} for OT-n when n = p.\n",
        "        - param index: an index in value list. \n",
        "        - param ot: an object of type 1-out-of-n Oblivious Transfer where n = p.\n",
        "      Returns:\n",
        "        - c0: Enc(m0, pk0).\n",
        "        - c1: Enc(m1, pk1).\n",
        "      \"\"\"\n",
        "      if i != 0:\n",
        "        ot.r = (ot.r + ot.curr_r) % p\n",
        "      m_i = self.keys_array[index][0] * i + self.keys_array[index][1]\n",
        "      m0 = (m_i + ot.r) % p\n",
        "      m1 = ot.curr_r\n",
        "\n",
        "      c0 = ot.Enc(m0, ot.pk0)\n",
        "      c1 = ot.Enc(m1, ot.pk1)\n",
        "      return c0, c1\n",
        "\n",
        "    def ReceiverTags(self, i, receiver_choice, ot):\n",
        "      \"\"\"\n",
        "      Receiver's part 1.\n",
        "      Attributes:\n",
        "        - param i: an index in {0,p-1} for OT-n when n = p.\n",
        "        - param receiver_choice: the receiver's choice bit.\n",
        "        - param ot: an object of type 1-out-of-n Oblivious Transfer where n = p.\n",
        "      \"\"\"\n",
        "      ot.pk0, self.sk = ot.Gen()  # Generate public-private key pair for choice 0\n",
        "      ot.pk1 = ot.OGen(np.random.randint(0, p))  # Generate modified public key for choice 1\n",
        "      self.input = 1 if i == receiver_choice else 0\n",
        "      return\n",
        "\n",
        "    def ReceiverOutputTags(self, c0, c1, ot):\n",
        "      \"\"\"\n",
        "      Receiver's part 2.\n",
        "      Attributes:\n",
        "        - param c0: Enc(m0, pk0).\n",
        "        - param c1: Enc(m1, pk1).\n",
        "        - param ot: an object of type 1-out-of-n Oblivious Transfer where n = p.\n",
        "      \"\"\"\n",
        "      chosen_ciphertext = c1 if self.input == 0 else c0\n",
        "      curr_output = ot.Dec(chosen_ciphertext, self.sk)\n",
        "      if self.input != 1:\n",
        "        ot.sum_r = (ot.sum_r + curr_output) % p\n",
        "        ot.curr_r = curr_output\n",
        "      else:\n",
        "        self.tags_array.append((curr_output - ot.sum_r) % p)\n",
        "\n",
        "    # Function for generating w_A:\n",
        "\n",
        "    def SenderW_A(self, i, index_in_mults, ot):\n",
        "      \"\"\"\n",
        "      Sender's function.\n",
        "      Attributes:\n",
        "        - param i: an index in {0,p^2-1} for OT-n when n = p^2.\n",
        "        - param index_in_mults: an index in u, v and w lists. \n",
        "        - param ot: an object of type 1-out-of-n Oblivious Transfer where n = p^2.\n",
        "      Returns:\n",
        "        - c0: Enc(m0, pk0).\n",
        "        - c1: Enc(m1, pk1).\n",
        "      \"\"\"\n",
        "      if i != 0:\n",
        "        ot.r = (ot.r + ot.curr_r) % p\n",
        "      m_i = (((i // p + self.u_B[index_in_mults]) % p) * ((i % p + self.v_B[index_in_mults]) % p) - self.w_B[index_in_mults]) % p\n",
        "      m0 = (m_i + ot.r) % p\n",
        "      m1 = ot.curr_r\n",
        "\n",
        "      c0 = ot.Enc(m0, ot.pk0)\n",
        "      c1 = ot.Enc(m1, ot.pk1)\n",
        "      return c0, c1\n",
        "\n",
        "\n",
        "    def OpenTo(self, node_x_A, node_x_B):\n",
        "      \"\"\"\n",
        "      Attributes:\n",
        "        - param node_x_A: a node of x_A.\n",
        "        - param node_x_B: a node of x_B.\n",
        "      Returns:\n",
        "        - x: returs OpenTo(x_A, x_B) if Verify(x_A, k_B, t_A) = ACCEPT and False otherwise.\n",
        "      \"\"\"\n",
        "      if type(node_x_A) is np.ndarray and type(node_x_B) is np.ndarray:\n",
        "        x = np.zeros((len(node_x_A)), dtype=int)\n",
        "        for i in range(len(node_x_A)):\n",
        "          x[i] = np.add(node_x_A[i].value, node_x_B[i].value) % p\n",
        "          if not self.Verify(node_x_A[i].value, node_x_B[i].key, node_x_A[i].tag):\n",
        "            return False\n",
        "      else:\n",
        "        x = np.add(node_x_A.value, node_x_B.value) % p\n",
        "        if not self.Verify(node_x_A.value, node_x_B.key, node_x_A.tag):\n",
        "          return False\n",
        "      return x\n",
        "\n",
        "    def SendR_B(self):\n",
        "      \"\"\"\n",
        "      Returns:\n",
        "        - r_B: an array of MACs from {0,p-1}.\n",
        "      \"\"\"\n",
        "      return self.r_B[:n]\n",
        "\n",
        "    def ReceiveD(self, d):\n",
        "      \"\"\"\n",
        "      Attributes:\n",
        "        - param d: such that d[i] = x[i] - r[i].\n",
        "      \"\"\"\n",
        "      for i in range(0,n):\n",
        "        self.circuit[i].value, self.circuit[i].key, self.circuit[i].tag = self.ADD_with_const(self.r_B[i], d[i])\n",
        "\n",
        "    def ReceiveR_AAndSendD(self, r_A):\n",
        "      \"\"\"\n",
        "      Attributes:\n",
        "        - param r_A: an array of MACs from {0,p-1}.\n",
        "      Returns:\n",
        "        - d: an array such that d[i] = y[i] - r[i].\n",
        "      \"\"\"\n",
        "      r = self.OpenTo(r_A, self.r_B[n:])\n",
        "\n",
        "      d = np.zeros((n), dtype=int)\n",
        "      for i in range(0, n):\n",
        "        d[i] = self.y[i] - r[i]\n",
        "        self.circuit[i + n].value, self.circuit[i + n].key, self.circuit[i + n].tag = self.ADD_with_const(self.r_B[i + n], d[i])\n",
        "\n",
        "      for i in range(len(self.circuit)):\n",
        "        for son in self.circuit[i].sons:\n",
        "          self.visited.append(son)\n",
        "        self.occurred_nodes.append(self.circuit[i])\n",
        "      return d\n",
        "\n",
        "    def ADD(self, node_x, node_y):\n",
        "      \"\"\"\n",
        "      Attributes:\n",
        "        - param node_x: a node of x.\n",
        "        - param node_y: a node of y.\n",
        "      Returns:\n",
        "        - z_B: x_B + y_B.\n",
        "        - k_Bz: (alpha_x, beta_x + beta_y).\n",
        "        - t_Bz: t_x + t_y.\n",
        "      \"\"\"\n",
        "      key_x = node_x.key\n",
        "      key_y = node_y.key\n",
        "\n",
        "      z_B = (node_x.value + node_y.value) % p\n",
        "      k_Bz = (key_x[0] % p, (key_x[1] + key_y[1]) % p)\n",
        "      t_Bz = (node_x.tag + node_y.tag) % p\n",
        "      return z_B, k_Bz, t_Bz\n",
        "\n",
        "    def ADD_with_const(self, node_x, c):\n",
        "      \"\"\"\n",
        "      Attributes:\n",
        "        - param node_x: a node of x.\n",
        "        - param c: a value of c.\n",
        "      Returns:\n",
        "        - z_B: x_B + c.\n",
        "        - k_Bz: (alpha_x, beta_x - c * alpha_x).\n",
        "        - t_Bz: t_x.\n",
        "      \"\"\"\n",
        "      key_x = node_x.key\n",
        "\n",
        "      z_B = (node_x.value) % p\n",
        "      k_Bz = (key_x[0] % p, (key_x[1] - c * key_x[0]) % p)\n",
        "      t_Bz = node_x.tag % p\n",
        "      return z_B, k_Bz, t_Bz\n",
        "\n",
        "    def MULT(self, node_x, node_y, u_B, v_B, w_B, d, e):\n",
        "      \"\"\"\n",
        "      Attributes:\n",
        "        - param node_x: a node of x.\n",
        "        - param node_y: a node of y.\n",
        "        - u_B: a MAC.\n",
        "        - v_B: a MAC.\n",
        "        - w_B: a MAC.\n",
        "        - d: OpenTo(d_A, d_B).\n",
        "        - e: OpenTo(e_A, e_B).\n",
        "      Returns:\n",
        "        - z_B: x_B * y_B.\n",
        "        - k_Bz: (alpha_x, beta_new).\n",
        "        - t_Bz: t_new.\n",
        "      \"\"\"\n",
        "      key_x = node_x.key\n",
        "      key_y = node_y.key\n",
        "\n",
        "      z_mul1, k_mul1, t_mul1 = self.MULT_with_const(u_B, e)\n",
        "      z_mul2, k_mul2, t_mul2 = self.MULT_with_const(v_B, d)\n",
        "\n",
        "      mac1 = MAC(z_mul1, k_mul1, t_mul1)\n",
        "      mac2 = MAC(z_mul2, k_mul2, t_mul2)\n",
        "\n",
        "      z_add1, k_add1, t_add1 = self.ADD(mac1, mac2)\n",
        "      mac3 = MAC(z_add1, k_add1, t_add1)\n",
        "\n",
        "      z_add2, k_add2, t_add2 = self.ADD(w_B, mac3)\n",
        "      mac4 = MAC(z_add2, k_add2, t_add2)\n",
        "\n",
        "      z_B, k_Bz, t_Bz = self.ADD_with_const(mac4, e*d)\n",
        "      return z_B, k_Bz, t_Bz\n",
        "\n",
        "    def MULT_with_const(self, node_x, c):\n",
        "      \"\"\"\n",
        "      Attributes:\n",
        "        - param node_x: a node of x.\n",
        "        - param c: a value of c.\n",
        "      Returns:\n",
        "        - z_B: x_B * c.\n",
        "        - k_Bz: (alpha_x, beta_x * c).\n",
        "        - t_Bz: t_x * c.\n",
        "      \"\"\"\n",
        "      key_x = node_x.key\n",
        "\n",
        "      z_B = (node_x.value * c) % p\n",
        "      k_Bz = (key_x[0] % p, (key_x[1] * c) % p)\n",
        "      t_Bz = (node_x.tag * c) % p\n",
        "      return z_B, k_Bz, t_Bz\n",
        "\n",
        "    def Receive(self, MULTS):\n",
        "      \"\"\"\n",
        "      Attributes:\n",
        "        - param MULTS: an array that holds the indexes of mult gates in a specific layer.\n",
        "      \"\"\"\n",
        "      global d_array, e_array\n",
        "\n",
        "      new_visited = []\n",
        "      for node in self.visited:\n",
        "        node_x_B = node.parent1\n",
        "        if node.constant == False:\n",
        "          node_y_B = node.parent2\n",
        "        else:\n",
        "          c = node.parent2\n",
        "        if node.value is None:\n",
        "          if node.op == \"+\" and node.constant:\n",
        "            node.value, node.key, node.tag = self.ADD_with_const(node_x_B, c)\n",
        "          if node.op == \"+\" and not node.constant:\n",
        "            node.value, node.key, node.tag = self.ADD(node_x_B, node_y_B)\n",
        "          if node.op == \"*\" and node.constant:\n",
        "            node.value, node.key, node.tag = self.MULT_with_const(node_x_B, c)\n",
        "          if node.op == \"*\" and not node.constant:\n",
        "            number_of_current_MULT = MULTS[0][2]\n",
        "            d_A = MULTS[0][0]\n",
        "            d_B = np.subtract(node_x_B.value, self.u_B[number_of_current_MULT].value) % p\n",
        "            d_array.append(d_A + d_B)\n",
        "\n",
        "            e_A = MULTS[0][1]\n",
        "            e_B = np.subtract(node_y_B.value, self.v_B[number_of_current_MULT].value) % p\n",
        "            e_array.append(e_A + e_B)\n",
        "\n",
        "            del MULTS[0]\n",
        "\n",
        "            node.value, node.key, node.tag = self.MULT(node_x_B, node_y_B, self.u_B[number_of_current_MULT], self.v_B[number_of_current_MULT], self.w_B[number_of_current_MULT], d_array[-1], e_array[-1])\n",
        "\n",
        "          self.occurred_nodes.append(node)\n",
        "          if len(node.sons) != 0:\n",
        "            for son in node.sons:\n",
        "              if son.parent1 in self.occurred_nodes and (son.constant == True or son.parent2 in self.occurred_nodes):\n",
        "                new_visited.append(son)\n",
        "            self.z_B = new_visited.copy()\n",
        "\n",
        "      self.visited = new_visited.copy()\n",
        "      new_visited.clear()\n",
        "\n",
        "    def Send(self):\n",
        "      \"\"\"\n",
        "        Returns:\n",
        "          - z_B: an array of the leaf in Bob's circuit.\n",
        "      \"\"\"\n",
        "      if len(self.visited) > 0:\n",
        "        return None\n",
        "      else:\n",
        "        return self.z_B\n",
        "\n",
        "    def Verify(self, x, k, t):\n",
        "      \"\"\"\n",
        "      Attributes:\n",
        "        - param x: a value of x.\n",
        "        - param k: a tuple of key.\n",
        "        - param t: a tag.\n",
        "      Returns:\n",
        "        - True or False: True if Ver(x,k,t) = ACCEPT and False if Ver(x,k,t) = ABORT.\n",
        "      \"\"\"\n",
        "      if (k[0] * x + k[1]) % p == t:\n",
        "        return True\n",
        "      else:\n",
        "        return False"
      ]
    },
    {
      "cell_type": "markdown",
      "metadata": {
        "id": "Ak0xEbLHh828"
      },
      "source": [
        "## The Protocol:"
      ]
    },
    {
      "cell_type": "markdown",
      "metadata": {
        "id": "lVM6bL2GiMZ2"
      },
      "source": [
        "### Generate $\\vec{a}=(a_1,a_2,...,a_n) \\in {\\{l_a,...,h_a\\}^n}$ and $\\vec{x}=(x_1,x_2,...,x_n) \\in {\\{l_x,...,h_x\\}^n}$"
      ]
    },
    {
      "cell_type": "code",
      "execution_count": null,
      "metadata": {
        "colab": {
          "base_uri": "https://localhost:8080/"
        },
        "id": "A-civeKWiKEA",
        "outputId": "24254eb4-0612-47f9-c402-8665d3dbc491"
      },
      "outputs": [
        {
          "output_type": "stream",
          "name": "stdout",
          "text": [
            "a = [3, 1]\n",
            "x = [3, 3]\n"
          ]
        }
      ],
      "source": [
        "a_vec = [np.random.randint(l_a,h_a + 1) for _ in range(n)]\n",
        "x_vec = [np.random.randint(l_x,h_x + 1) for _ in range(n)]\n",
        "\n",
        "print(\"a =\", a_vec)\n",
        "print(\"x =\", x_vec)"
      ]
    },
    {
      "cell_type": "markdown",
      "metadata": {
        "id": "b2cYbLQzilZd"
      },
      "source": [
        "### Offline Phase:"
      ]
    },
    {
      "cell_type": "code",
      "execution_count": null,
      "metadata": {
        "id": "Qqg9mDUS0R4m"
      },
      "outputs": [],
      "source": [
        "input = np.zeros((2*n), dtype=int)\n",
        "circuit = Circuit(n, input, list_of_mults, number, inequality, p)"
      ]
    },
    {
      "cell_type": "markdown",
      "metadata": {
        "id": "4EmVQbAXmD1F"
      },
      "source": [
        "Initialization of Alice and Bob:"
      ]
    },
    {
      "cell_type": "code",
      "execution_count": null,
      "metadata": {
        "id": "QsHslzpwl0Ue"
      },
      "outputs": [],
      "source": [
        "Alice = Alice(circuit=circuit, x=x_vec)\n",
        "Bob = Bob(circuit=circuit, y=a_vec)"
      ]
    },
    {
      "cell_type": "markdown",
      "source": [
        "Generate tags for $r_A$ and $r_B$ using the 1-out-of-n OT protocol:\n",
        "\n"
      ],
      "metadata": {
        "id": "hRzzDGCNG8p2"
      }
    },
    {
      "cell_type": "code",
      "execution_count": null,
      "metadata": {
        "id": "RlBrl8ujTI4j"
      },
      "outputs": [],
      "source": [
        "Alice.GenerateKeysAndTagsArray(2 * n)\n",
        "Bob.GenerateKeysAndTagsArray(2 * n)\n",
        "for index in range(2 * n):\n",
        "  otA = OT(p, q, g)\n",
        "  otB = OT(p, q, g)\n",
        "  for i in range(p):\n",
        "    Alice.ReceiverTags(i, Alice.r_A[index], otA)\n",
        "    c0, c1 = Bob.SenderTags(i, index, otA)\n",
        "    Alice.ReceiverOutputTags(c0, c1, otA)\n",
        "\n",
        "    Bob.ReceiverTags(i, Bob.r_B[index], otB)\n",
        "    c0, c1 = Alice.SenderTags(i, index, otB)\n",
        "    Bob.ReceiverOutputTags(c0, c1, otB)\n",
        "Alice.r_A = Alice.CreateMACs(Alice.r_A, Alice.keys_array, Alice.tags_array)\n",
        "Bob.r_B = Bob.CreateMACs(Bob.r_B, Bob.keys_array, Bob.tags_array)"
      ]
    },
    {
      "cell_type": "markdown",
      "source": [
        "Generate $w_A$ using the 1-out-of-n OT protocol:"
      ],
      "metadata": {
        "id": "FL8EMHl1Hk4F"
      }
    },
    {
      "cell_type": "code",
      "execution_count": null,
      "metadata": {
        "id": "6YVb89U0KOd_"
      },
      "outputs": [],
      "source": [
        "for index in range(Alice.number_of_mult_gates):\n",
        "  otA = OT(p, q, g)\n",
        "  for i in range(pow(p, 2)):\n",
        "    Alice.ReceiverW_A(i, index, otA)\n",
        "    c0, c1 = Bob.SenderW_A(i, index, otA)\n",
        "    Alice.ReceiverOutputW_A(c0, c1, otA)"
      ]
    },
    {
      "cell_type": "markdown",
      "source": [
        "Generate tags for $u_A$ and $u_B$ using the 1-out-of-n OT protocol:"
      ],
      "metadata": {
        "id": "pLTuP-TZHwWp"
      }
    },
    {
      "cell_type": "code",
      "execution_count": null,
      "metadata": {
        "id": "90EhR7M5rokJ"
      },
      "outputs": [],
      "source": [
        "Alice.GenerateKeysAndTagsArray(Alice.number_of_mult_gates)\n",
        "Bob.GenerateKeysAndTagsArray(Bob.number_of_mult_gates)\n",
        "\n",
        "for index in range(Alice.number_of_mult_gates):\n",
        "  otA = OT(p, q, g)\n",
        "  otB = OT(p, q, g)\n",
        "  for i in range(p):\n",
        "    Alice.ReceiverTags(i, Alice.u_A[index], otA)\n",
        "    c0, c1 = Bob.SenderTags(i, index, otA)\n",
        "    Alice.ReceiverOutputTags(c0, c1, otA)\n",
        "\n",
        "    Bob.ReceiverTags(i, Bob.u_B[index], otB)\n",
        "    c0, c1 = Alice.SenderTags(i, index, otB)\n",
        "    Bob.ReceiverOutputTags(c0, c1, otB)\n",
        "Alice.u_A = Alice.CreateMACs(Alice.u_A, Alice.keys_array, Alice.tags_array)\n",
        "Bob.u_B = Bob.CreateMACs(Bob.u_B, Bob.keys_array, Bob.tags_array)"
      ]
    },
    {
      "cell_type": "markdown",
      "source": [
        "Generate tags for $v_A$ and $v_B$ using the 1-out-of-n OT protocol:"
      ],
      "metadata": {
        "id": "hODgoISEH3Eb"
      }
    },
    {
      "cell_type": "code",
      "execution_count": null,
      "metadata": {
        "id": "g7ZacCdYuDqG"
      },
      "outputs": [],
      "source": [
        "Alice.GenerateKeysAndTagsArray(Alice.number_of_mult_gates)\n",
        "Bob.GenerateKeysAndTagsArray(Bob.number_of_mult_gates)\n",
        "\n",
        "for index in range(Alice.number_of_mult_gates):\n",
        "  otA = OT(p, q, g)\n",
        "  otB = OT(p, q, g)\n",
        "  for i in range(p):\n",
        "    Alice.ReceiverTags(i, Alice.v_A[index], otA)\n",
        "    c0, c1 = Bob.SenderTags(i, index, otA)\n",
        "    Alice.ReceiverOutputTags(c0, c1, otA)\n",
        "\n",
        "    Bob.ReceiverTags(i, Bob.v_B[index], otB)\n",
        "    c0, c1 = Alice.SenderTags(i, index, otB)\n",
        "    Bob.ReceiverOutputTags(c0, c1, otB)\n",
        "Alice.v_A = Alice.CreateMACs(Alice.v_A, Alice.keys_array, Alice.tags_array)\n",
        "Bob.v_B = Bob.CreateMACs(Bob.v_B, Bob.keys_array, Bob.tags_array)"
      ]
    },
    {
      "cell_type": "markdown",
      "source": [
        "Generate tags for $w_A$ and $w_B$ using the 1-out-of-n OT protocol:"
      ],
      "metadata": {
        "id": "K_gWrtXeH5tb"
      }
    },
    {
      "cell_type": "code",
      "execution_count": null,
      "metadata": {
        "id": "AiGfJQ6euKxQ"
      },
      "outputs": [],
      "source": [
        "Alice.GenerateKeysAndTagsArray(Alice.number_of_mult_gates)\n",
        "Bob.GenerateKeysAndTagsArray(Bob.number_of_mult_gates)\n",
        "\n",
        "for index in range(Alice.number_of_mult_gates):\n",
        "  otA = OT(p, q, g)\n",
        "  otB = OT(p, q, g)\n",
        "  for i in range(p):\n",
        "    Alice.ReceiverTags(i, Alice.w_A[index], otA)\n",
        "    c0, c1 = Bob.SenderTags(i, index, otA)\n",
        "    Alice.ReceiverOutputTags(c0, c1, otA)\n",
        "\n",
        "    Bob.ReceiverTags(i, Bob.w_B[index], otB)\n",
        "    c0, c1 = Alice.SenderTags(i, index, otB)\n",
        "    Bob.ReceiverOutputTags(c0, c1, otB)\n",
        "Alice.w_A = Alice.CreateMACs(Alice.w_A, Alice.keys_array, Alice.tags_array)\n",
        "Bob.w_B = Bob.CreateMACs(Bob.w_B, Bob.keys_array, Bob.tags_array)"
      ]
    },
    {
      "cell_type": "markdown",
      "metadata": {
        "id": "nmpbL1v8lp9z"
      },
      "source": [
        "### Online Phase:"
      ]
    },
    {
      "cell_type": "markdown",
      "metadata": {
        "id": "SoJiLtSd78k0"
      },
      "source": [
        "Secret sharing:"
      ]
    },
    {
      "cell_type": "code",
      "execution_count": null,
      "metadata": {
        "id": "4sZxvfX9780_"
      },
      "outputs": [],
      "source": [
        "d = Alice.ReceiveR_BAndSendD(r_B=Bob.SendR_B())\n",
        "Bob.ReceiveD(d=d)\n",
        "\n",
        "d = Bob.ReceiveR_AAndSendD(r_A = Alice.SendR_A())\n",
        "Alice.ReceiveD(d=d)"
      ]
    },
    {
      "cell_type": "code",
      "execution_count": null,
      "metadata": {
        "id": "qxCXVzgrPqIa"
      },
      "outputs": [],
      "source": [
        "while Alice.hasOutput() == False:\n",
        "  MULTS = Alice.Send()\n",
        "  Bob.Receive(MULTS=MULTS)\n",
        "  z_B = Bob.Send()\n",
        "  Alice.Receive(z_B=z_B)"
      ]
    },
    {
      "cell_type": "markdown",
      "metadata": {
        "id": "UJ26lwCjo701"
      },
      "source": [
        "Alice outputs:"
      ]
    },
    {
      "cell_type": "code",
      "execution_count": null,
      "metadata": {
        "colab": {
          "base_uri": "https://localhost:8080/"
        },
        "id": "YgNSuANTo8Fv",
        "outputId": "4ca7edd5-d1e6-4202-98cc-b179b46102d2"
      },
      "outputs": [
        {
          "output_type": "stream",
          "name": "stdout",
          "text": [
            "z = 0\n"
          ]
        }
      ],
      "source": [
        "z = Alice.Output()\n",
        "print(\"z =\", z)"
      ]
    },
    {
      "cell_type": "markdown",
      "metadata": {
        "id": "MtMDw3kKsgMn"
      },
      "source": [
        "### In short:"
      ]
    },
    {
      "cell_type": "markdown",
      "metadata": {
        "id": "mXAzqXiPpe3i"
      },
      "source": [
        "for $a = (a_{1},a_{2},...,a_{n}), x = (x_{1},x_{2},...,x_{n})$:\n"
      ]
    },
    {
      "cell_type": "code",
      "execution_count": null,
      "metadata": {
        "colab": {
          "base_uri": "https://localhost:8080/"
        },
        "id": "69fxZBa9sRfM",
        "outputId": "a2fae6d8-4d3b-4aff-dd7d-b95ec65f6ea8"
      },
      "outputs": [
        {
          "output_type": "stream",
          "name": "stdout",
          "text": [
            "a = [3, 1]\n",
            "x = [3, 3]\n"
          ]
        }
      ],
      "source": [
        "print(\"a =\", a_vec)\n",
        "print(\"x =\", x_vec)"
      ]
    },
    {
      "cell_type": "markdown",
      "metadata": {
        "id": "GasQqphVsR2O"
      },
      "source": [
        "The output of $f_{a⃗,number}(x_1,x_2,...,x_n)$ is:"
      ]
    },
    {
      "cell_type": "code",
      "execution_count": null,
      "metadata": {
        "colab": {
          "base_uri": "https://localhost:8080/"
        },
        "id": "riZqBd07pcNx",
        "outputId": "fa5fb515-d043-451f-fbfa-92c72e242eed"
      },
      "outputs": [
        {
          "output_type": "stream",
          "name": "stdout",
          "text": [
            "0\n"
          ]
        }
      ],
      "source": [
        "print(z)"
      ]
    }
  ],
  "metadata": {
    "colab": {
      "provenance": []
    },
    "kernelspec": {
      "display_name": "Python 3",
      "name": "python3"
    },
    "language_info": {
      "name": "python"
    }
  },
  "nbformat": 4,
  "nbformat_minor": 0
}